{
 "cells": [
  {
   "cell_type": "code",
   "execution_count": 2,
   "metadata": {
    "collapsed": true
   },
   "outputs": [],
   "source": [
    "%matplotlib inline\n",
    "import math\n",
    "import random\n",
    "import subprocess \n",
    "import numpy as np\n",
    "import pandas as pd\n",
    "import scipy.stats as stats\n",
    "import matplotlib.pyplot as plt\n",
    "from collections import defaultdict\n",
    "from scipy.stats.stats import pearsonr\n"
   ]
  },
  {
   "cell_type": "code",
   "execution_count": 3,
   "metadata": {
    "collapsed": true
   },
   "outputs": [],
   "source": [
    "data = pd.read_csv(\"output.csv\", delimiter=',', header=0) \n",
    "data.drop([\"Sex_Val\", \"Age\",\"Rings\"], axis = 1, inplace = True)"
   ]
  },
  {
   "cell_type": "code",
   "execution_count": null,
   "metadata": {
    "collapsed": true
   },
   "outputs": [],
   "source": [
    "dataset=data.values"
   ]
  },
  {
   "cell_type": "code",
   "execution_count": null,
   "metadata": {
    "collapsed": true
   },
   "outputs": [],
   "source": [
    "# compute ABOD score for each point\n",
    "# -- O(n^3) ==> very slow!\n",
    "abod = list()\n",
    "for p in dataset:\n",
    "    angle_list = list()\n",
    "    for a in dataset:\n",
    "        for b in dataset:\n",
    "            pa = a - p\n",
    "            pb = b - p\n",
    "            norm_pa = np.linalg.norm(pa)\n",
    "            norm_pb = np.linalg.norm(pb)\n",
    "            if norm_pa*norm_pb > 0:\n",
    "                c_ang = np.dot(pa, pb) / (norm_pa**2 * norm_pb**2)\n",
    "                angle_list.append(c_ang)\n",
    "    abod.append( np.var(angle_list) )"
   ]
  },
  {
   "cell_type": "code",
   "execution_count": null,
   "metadata": {
    "collapsed": true
   },
   "outputs": [],
   "source": [
    "# Select top N smaller scores as outliers\n",
    "take_top_n = 28\n",
    "abod_threshold = sorted(abod)[take_top_n]\n",
    "outliers = array([ dataset[i] for i in range(len(dataset)) \n",
    "                  if abod[i]<abod_threshold])"
   ]
  },
  {
   "cell_type": "code",
   "execution_count": null,
   "metadata": {
    "collapsed": true
   },
   "outputs": [],
   "source": [
    "# Plot outliers vs. dataset\n",
    "xlim(min(dataset[:,0]-0.1), max(dataset[:,0])+0.1)\n",
    "ylim(min(dataset[:,1]-0.1), max(dataset[:,1])+0.1)\n",
    "\n",
    "plot(dataset[:,0], dataset[:,1], 'bo')\n",
    "plot(outliers[:,0], outliers[:,1], 'ro')"
   ]
  },
  {
   "cell_type": "code",
   "execution_count": null,
   "metadata": {
    "collapsed": true
   },
   "outputs": [],
   "source": [
    "plt.scatter(dataset[:,0], dataset[:,1], s=80, c=log(abod), cmap='RdYlGn')\n",
    "plt.colorbar()\n",
    "plt.show()"
   ]
  }
 ],
 "metadata": {
  "kernelspec": {
   "display_name": "Python 2",
   "language": "python",
   "name": "python2"
  },
  "language_info": {
   "codemirror_mode": {
    "name": "ipython",
    "version": 2
   },
   "file_extension": ".py",
   "mimetype": "text/x-python",
   "name": "python",
   "nbconvert_exporter": "python",
   "pygments_lexer": "ipython2",
   "version": "2.7.14"
  }
 },
 "nbformat": 4,
 "nbformat_minor": 2
}
