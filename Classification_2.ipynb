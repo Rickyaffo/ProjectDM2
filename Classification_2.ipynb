{
 "cells": [
  {
   "cell_type": "markdown",
   "metadata": {},
   "source": [
    "(i) discard the “Infant” abalones; (ii) discretize the attribute “Number of rings” into 2 classes; (iii) try at least 3 different classification methods (among those discussed in DM2, including ensemble methods) on the resulting dataset, using the discretized n. of rings as class, and evaluating them with cross-validation."
   ]
  },
  {
   "cell_type": "code",
   "execution_count": 1,
   "metadata": {},
   "outputs": [
    {
     "name": "stdout",
     "output_type": "stream",
     "text": [
      "Populating the interactive namespace from numpy and matplotlib\n"
     ]
    },
    {
     "name": "stderr",
     "output_type": "stream",
     "text": [
      "/Users/ludovicavasile/anaconda3/envs/py27/lib/python2.7/site-packages/sklearn/cross_validation.py:41: DeprecationWarning: This module was deprecated in version 0.18 in favor of the model_selection module into which all the refactored classes and functions are moved. Also note that the interface of the new CV iterators are different from that of this module. This module will be removed in 0.20.\n",
      "  \"This module will be removed in 0.20.\", DeprecationWarning)\n"
     ]
    }
   ],
   "source": [
    "%matplotlib inline\n",
    "%pylab inline\n",
    "import math\n",
    "import random\n",
    "import numpy as np\n",
    "import pandas as pd\n",
    "import scipy.stats as stats\n",
    "import matplotlib.pyplot as plt\n",
    "from collections import defaultdict\n",
    "from scipy.stats.stats import pearsonr\n",
    "import pydotplus \n",
    "from IPython.display import Image  \n",
    "import seaborn as sns\n",
    "from sklearn.ensemble import BaggingClassifier\n",
    "from sklearn.cluster import KMeans\n",
    "from sklearn import tree\n",
    "from sklearn import metrics\n",
    "from sklearn.ensemble import RandomForestClassifier, ExtraTreesClassifier\n",
    "from sklearn.metrics import confusion_matrix\n",
    "from sklearn.cross_validation import train_test_split\n",
    "from sklearn import cross_validation\n",
    "from sklearn.cross_validation import cross_val_score\n",
    "from sklearn.datasets import make_blobs\n",
    "#rcParams['figure.figsize'] = 20, 20\n",
    "from sklearn import neighbors\n",
    "from sklearn import linear_model\n",
    "from sklearn.naive_bayes import GaussianNB\n",
    "from sklearn import svm\n",
    "from scipy.stats import randint as sp_randint\n",
    "from mlxtend.plotting import plot_decision_regions\n",
    "from sklearn.metrics import roc_curve, auc\n",
    "from sklearn.ensemble import RandomForestClassifier\n",
    "from sklearn.model_selection import RandomizedSearchCV\n",
    "from sklearn.model_selection import GridSearchCV\n",
    "from sklearn.svm import SVC\n",
    "from sklearn.metrics import make_scorer\n",
    "from sklearn.metrics import accuracy_score\n",
    "from sklearn.ensemble import AdaBoostClassifier\n",
    "from sklearn.ensemble import BaggingClassifier"
   ]
  },
  {
   "cell_type": "code",
   "execution_count": 2,
   "metadata": {},
   "outputs": [
    {
     "data": {
      "text/html": [
       "<div>\n",
       "<style scoped>\n",
       "    .dataframe tbody tr th:only-of-type {\n",
       "        vertical-align: middle;\n",
       "    }\n",
       "\n",
       "    .dataframe tbody tr th {\n",
       "        vertical-align: top;\n",
       "    }\n",
       "\n",
       "    .dataframe thead th {\n",
       "        text-align: right;\n",
       "    }\n",
       "</style>\n",
       "<table border=\"1\" class=\"dataframe\">\n",
       "  <thead>\n",
       "    <tr style=\"text-align: right;\">\n",
       "      <th></th>\n",
       "      <th>Sex</th>\n",
       "      <th>Length</th>\n",
       "      <th>Diameter</th>\n",
       "      <th>Height</th>\n",
       "      <th>Whole</th>\n",
       "      <th>Shucked</th>\n",
       "      <th>Viscera</th>\n",
       "      <th>Shell</th>\n",
       "      <th>Rings</th>\n",
       "    </tr>\n",
       "  </thead>\n",
       "  <tbody>\n",
       "    <tr>\n",
       "      <th>0</th>\n",
       "      <td>M</td>\n",
       "      <td>0.455</td>\n",
       "      <td>0.365</td>\n",
       "      <td>0.095</td>\n",
       "      <td>0.5140</td>\n",
       "      <td>0.2245</td>\n",
       "      <td>0.1010</td>\n",
       "      <td>0.150</td>\n",
       "      <td>15</td>\n",
       "    </tr>\n",
       "    <tr>\n",
       "      <th>1</th>\n",
       "      <td>M</td>\n",
       "      <td>0.350</td>\n",
       "      <td>0.265</td>\n",
       "      <td>0.090</td>\n",
       "      <td>0.2255</td>\n",
       "      <td>0.0995</td>\n",
       "      <td>0.0485</td>\n",
       "      <td>0.070</td>\n",
       "      <td>7</td>\n",
       "    </tr>\n",
       "    <tr>\n",
       "      <th>2</th>\n",
       "      <td>F</td>\n",
       "      <td>0.530</td>\n",
       "      <td>0.420</td>\n",
       "      <td>0.135</td>\n",
       "      <td>0.6770</td>\n",
       "      <td>0.2565</td>\n",
       "      <td>0.1415</td>\n",
       "      <td>0.210</td>\n",
       "      <td>9</td>\n",
       "    </tr>\n",
       "    <tr>\n",
       "      <th>3</th>\n",
       "      <td>M</td>\n",
       "      <td>0.440</td>\n",
       "      <td>0.365</td>\n",
       "      <td>0.125</td>\n",
       "      <td>0.5160</td>\n",
       "      <td>0.2155</td>\n",
       "      <td>0.1140</td>\n",
       "      <td>0.155</td>\n",
       "      <td>10</td>\n",
       "    </tr>\n",
       "    <tr>\n",
       "      <th>4</th>\n",
       "      <td>I</td>\n",
       "      <td>0.330</td>\n",
       "      <td>0.255</td>\n",
       "      <td>0.080</td>\n",
       "      <td>0.2050</td>\n",
       "      <td>0.0895</td>\n",
       "      <td>0.0395</td>\n",
       "      <td>0.055</td>\n",
       "      <td>7</td>\n",
       "    </tr>\n",
       "  </tbody>\n",
       "</table>\n",
       "</div>"
      ],
      "text/plain": [
       "  Sex  Length  Diameter  Height   Whole  Shucked  Viscera  Shell  Rings\n",
       "0   M   0.455     0.365   0.095  0.5140   0.2245   0.1010  0.150     15\n",
       "1   M   0.350     0.265   0.090  0.2255   0.0995   0.0485  0.070      7\n",
       "2   F   0.530     0.420   0.135  0.6770   0.2565   0.1415  0.210      9\n",
       "3   M   0.440     0.365   0.125  0.5160   0.2155   0.1140  0.155     10\n",
       "4   I   0.330     0.255   0.080  0.2050   0.0895   0.0395  0.055      7"
      ]
     },
     "execution_count": 2,
     "metadata": {},
     "output_type": "execute_result"
    }
   ],
   "source": [
    "df = pd.read_csv(\"abalone.data.txt\", sep=',',names = ['Sex','Length','Diameter','Height','Whole','Shucked','Viscera','Shell','Rings']) \n",
    "df.head()\n",
    "#df.describe()"
   ]
  },
  {
   "cell_type": "code",
   "execution_count": 3,
   "metadata": {},
   "outputs": [
    {
     "name": "stdout",
     "output_type": "stream",
     "text": [
      "Length      0.523992\n",
      "Diameter    0.407881\n",
      "Height      0.139516\n",
      "Whole       0.828742\n",
      "Shucked     0.359367\n",
      "Viscera     0.180594\n",
      "Shell       0.238831\n",
      "Rings       9.933684\n",
      "dtype: float64\n"
     ]
    }
   ],
   "source": [
    "#df.info()\n",
    "print(df.mean())"
   ]
  },
  {
   "cell_type": "code",
   "execution_count": 4,
   "metadata": {},
   "outputs": [],
   "source": [
    "# Transform Sex from a string to a number representation\n",
    "sexes = sorted(df['Sex'].unique())\n",
    "#print(sexes)\n",
    "genders_mapping = dict(zip(sexes, range(0, len(sexes) + 1)))\n",
    "df['Sex_Val'] = df['Sex'].map(genders_mapping).astype(int)\n",
    "df.head()\n",
    "df = df.drop(['Sex'], axis=1)"
   ]
  },
  {
   "cell_type": "code",
   "execution_count": 5,
   "metadata": {},
   "outputs": [
    {
     "data": {
      "text/html": [
       "<div>\n",
       "<style scoped>\n",
       "    .dataframe tbody tr th:only-of-type {\n",
       "        vertical-align: middle;\n",
       "    }\n",
       "\n",
       "    .dataframe tbody tr th {\n",
       "        vertical-align: top;\n",
       "    }\n",
       "\n",
       "    .dataframe thead th {\n",
       "        text-align: right;\n",
       "    }\n",
       "</style>\n",
       "<table border=\"1\" class=\"dataframe\">\n",
       "  <thead>\n",
       "    <tr style=\"text-align: right;\">\n",
       "      <th></th>\n",
       "      <th>Length</th>\n",
       "      <th>Diameter</th>\n",
       "      <th>Height</th>\n",
       "      <th>Whole</th>\n",
       "      <th>Shucked</th>\n",
       "      <th>Viscera</th>\n",
       "      <th>Shell</th>\n",
       "      <th>Rings</th>\n",
       "      <th>Sex_Val</th>\n",
       "    </tr>\n",
       "  </thead>\n",
       "  <tbody>\n",
       "    <tr>\n",
       "      <th>0</th>\n",
       "      <td>0.455</td>\n",
       "      <td>0.365</td>\n",
       "      <td>0.095</td>\n",
       "      <td>0.5140</td>\n",
       "      <td>0.2245</td>\n",
       "      <td>0.1010</td>\n",
       "      <td>0.150</td>\n",
       "      <td>15</td>\n",
       "      <td>1</td>\n",
       "    </tr>\n",
       "    <tr>\n",
       "      <th>1</th>\n",
       "      <td>0.350</td>\n",
       "      <td>0.265</td>\n",
       "      <td>0.090</td>\n",
       "      <td>0.2255</td>\n",
       "      <td>0.0995</td>\n",
       "      <td>0.0485</td>\n",
       "      <td>0.070</td>\n",
       "      <td>7</td>\n",
       "      <td>1</td>\n",
       "    </tr>\n",
       "    <tr>\n",
       "      <th>2</th>\n",
       "      <td>0.530</td>\n",
       "      <td>0.420</td>\n",
       "      <td>0.135</td>\n",
       "      <td>0.6770</td>\n",
       "      <td>0.2565</td>\n",
       "      <td>0.1415</td>\n",
       "      <td>0.210</td>\n",
       "      <td>9</td>\n",
       "      <td>0</td>\n",
       "    </tr>\n",
       "    <tr>\n",
       "      <th>3</th>\n",
       "      <td>0.440</td>\n",
       "      <td>0.365</td>\n",
       "      <td>0.125</td>\n",
       "      <td>0.5160</td>\n",
       "      <td>0.2155</td>\n",
       "      <td>0.1140</td>\n",
       "      <td>0.155</td>\n",
       "      <td>10</td>\n",
       "      <td>1</td>\n",
       "    </tr>\n",
       "    <tr>\n",
       "      <th>6</th>\n",
       "      <td>0.530</td>\n",
       "      <td>0.415</td>\n",
       "      <td>0.150</td>\n",
       "      <td>0.7775</td>\n",
       "      <td>0.2370</td>\n",
       "      <td>0.1415</td>\n",
       "      <td>0.330</td>\n",
       "      <td>20</td>\n",
       "      <td>0</td>\n",
       "    </tr>\n",
       "  </tbody>\n",
       "</table>\n",
       "</div>"
      ],
      "text/plain": [
       "   Length  Diameter  Height   Whole  Shucked  Viscera  Shell  Rings  Sex_Val\n",
       "0   0.455     0.365   0.095  0.5140   0.2245   0.1010  0.150     15        1\n",
       "1   0.350     0.265   0.090  0.2255   0.0995   0.0485  0.070      7        1\n",
       "2   0.530     0.420   0.135  0.6770   0.2565   0.1415  0.210      9        0\n",
       "3   0.440     0.365   0.125  0.5160   0.2155   0.1140  0.155     10        1\n",
       "6   0.530     0.415   0.150  0.7775   0.2370   0.1415  0.330     20        0"
      ]
     },
     "execution_count": 5,
     "metadata": {},
     "output_type": "execute_result"
    }
   ],
   "source": [
    "df = df[df.Sex_Val != 1]\n",
    "df[\"Sex_Val\"] = df[\"Sex_Val\"].apply(lambda x: 1 if x == 2 else 0)\n",
    "df.head()"
   ]
  },
  {
   "cell_type": "code",
   "execution_count": 6,
   "metadata": {},
   "outputs": [
    {
     "data": {
      "text/plain": [
       "(array([   24.,   461.,  1058.,   850.,   205.,   148.,    67.,    15.,\n",
       "            4.,     3.]),\n",
       " array([  3. ,   5.6,   8.2,  10.8,  13.4,  16. ,  18.6,  21.2,  23.8,\n",
       "         26.4,  29. ]),\n",
       " <a list of 10 Patch objects>)"
      ]
     },
     "execution_count": 6,
     "metadata": {},
     "output_type": "execute_result"
    },
    {
     "data": {
      "image/png": "[encoded data removed]",
      "text/plain": [
       "<matplotlib.figure.Figure at 0x1a10bc1a10>"
      ]
     },
     "metadata": {},
     "output_type": "display_data"
    }
   ],
   "source": [
    "plt.hist(df[\"Rings\"])"
   ]
  },
  {
   "cell_type": "code",
   "execution_count": 7,
   "metadata": {
    "scrolled": true
   },
   "outputs": [
    {
     "data": {
      "text/html": [
       "<div>\n",
       "<style scoped>\n",
       "    .dataframe tbody tr th:only-of-type {\n",
       "        vertical-align: middle;\n",
       "    }\n",
       "\n",
       "    .dataframe tbody tr th {\n",
       "        vertical-align: top;\n",
       "    }\n",
       "\n",
       "    .dataframe thead th {\n",
       "        text-align: right;\n",
       "    }\n",
       "</style>\n",
       "<table border=\"1\" class=\"dataframe\">\n",
       "  <thead>\n",
       "    <tr style=\"text-align: right;\">\n",
       "      <th></th>\n",
       "      <th>Length</th>\n",
       "      <th>Diameter</th>\n",
       "      <th>Height</th>\n",
       "      <th>Whole</th>\n",
       "      <th>Shucked</th>\n",
       "      <th>Viscera</th>\n",
       "      <th>Shell</th>\n",
       "      <th>Rings</th>\n",
       "      <th>Sex_Val</th>\n",
       "      <th>Age</th>\n",
       "    </tr>\n",
       "  </thead>\n",
       "  <tbody>\n",
       "    <tr>\n",
       "      <th>0</th>\n",
       "      <td>0.455</td>\n",
       "      <td>0.365</td>\n",
       "      <td>0.095</td>\n",
       "      <td>0.5140</td>\n",
       "      <td>0.2245</td>\n",
       "      <td>0.1010</td>\n",
       "      <td>0.150</td>\n",
       "      <td>15</td>\n",
       "      <td>1</td>\n",
       "      <td>16</td>\n",
       "    </tr>\n",
       "    <tr>\n",
       "      <th>1</th>\n",
       "      <td>0.350</td>\n",
       "      <td>0.265</td>\n",
       "      <td>0.090</td>\n",
       "      <td>0.2255</td>\n",
       "      <td>0.0995</td>\n",
       "      <td>0.0485</td>\n",
       "      <td>0.070</td>\n",
       "      <td>7</td>\n",
       "      <td>1</td>\n",
       "      <td>8</td>\n",
       "    </tr>\n",
       "    <tr>\n",
       "      <th>2</th>\n",
       "      <td>0.530</td>\n",
       "      <td>0.420</td>\n",
       "      <td>0.135</td>\n",
       "      <td>0.6770</td>\n",
       "      <td>0.2565</td>\n",
       "      <td>0.1415</td>\n",
       "      <td>0.210</td>\n",
       "      <td>9</td>\n",
       "      <td>0</td>\n",
       "      <td>10</td>\n",
       "    </tr>\n",
       "    <tr>\n",
       "      <th>3</th>\n",
       "      <td>0.440</td>\n",
       "      <td>0.365</td>\n",
       "      <td>0.125</td>\n",
       "      <td>0.5160</td>\n",
       "      <td>0.2155</td>\n",
       "      <td>0.1140</td>\n",
       "      <td>0.155</td>\n",
       "      <td>10</td>\n",
       "      <td>1</td>\n",
       "      <td>11</td>\n",
       "    </tr>\n",
       "    <tr>\n",
       "      <th>6</th>\n",
       "      <td>0.530</td>\n",
       "      <td>0.415</td>\n",
       "      <td>0.150</td>\n",
       "      <td>0.7775</td>\n",
       "      <td>0.2370</td>\n",
       "      <td>0.1415</td>\n",
       "      <td>0.330</td>\n",
       "      <td>20</td>\n",
       "      <td>0</td>\n",
       "      <td>21</td>\n",
       "    </tr>\n",
       "  </tbody>\n",
       "</table>\n",
       "</div>"
      ],
      "text/plain": [
       "   Length  Diameter  Height   Whole  Shucked  Viscera  Shell  Rings  Sex_Val  \\\n",
       "0   0.455     0.365   0.095  0.5140   0.2245   0.1010  0.150     15        1   \n",
       "1   0.350     0.265   0.090  0.2255   0.0995   0.0485  0.070      7        1   \n",
       "2   0.530     0.420   0.135  0.6770   0.2565   0.1415  0.210      9        0   \n",
       "3   0.440     0.365   0.125  0.5160   0.2155   0.1140  0.155     10        1   \n",
       "6   0.530     0.415   0.150  0.7775   0.2370   0.1415  0.330     20        0   \n",
       "\n",
       "   Age  \n",
       "0   16  \n",
       "1    8  \n",
       "2   10  \n",
       "3   11  \n",
       "6   21  "
      ]
     },
     "execution_count": 7,
     "metadata": {},
     "output_type": "execute_result"
    }
   ],
   "source": [
    "#Age\n",
    "df[\"Age\"] = df[\"Rings\"].apply(lambda x: x+1)\n",
    "df.head()"
   ]
  },
  {
   "cell_type": "code",
   "execution_count": 8,
   "metadata": {},
   "outputs": [
    {
     "data": {
      "text/html": [
       "<div>\n",
       "<style scoped>\n",
       "    .dataframe tbody tr th:only-of-type {\n",
       "        vertical-align: middle;\n",
       "    }\n",
       "\n",
       "    .dataframe tbody tr th {\n",
       "        vertical-align: top;\n",
       "    }\n",
       "\n",
       "    .dataframe thead th {\n",
       "        text-align: right;\n",
       "    }\n",
       "</style>\n",
       "<table border=\"1\" class=\"dataframe\">\n",
       "  <thead>\n",
       "    <tr style=\"text-align: right;\">\n",
       "      <th></th>\n",
       "      <th>Length</th>\n",
       "      <th>Diameter</th>\n",
       "      <th>Height</th>\n",
       "      <th>Whole</th>\n",
       "      <th>Shucked</th>\n",
       "      <th>Viscera</th>\n",
       "      <th>Shell</th>\n",
       "      <th>Rings</th>\n",
       "      <th>Sex_Val</th>\n",
       "      <th>Age</th>\n",
       "    </tr>\n",
       "  </thead>\n",
       "  <tbody>\n",
       "    <tr>\n",
       "      <th>0</th>\n",
       "      <td>0.455</td>\n",
       "      <td>0.365</td>\n",
       "      <td>0.095</td>\n",
       "      <td>0.5140</td>\n",
       "      <td>0.2245</td>\n",
       "      <td>0.1010</td>\n",
       "      <td>0.150</td>\n",
       "      <td>1</td>\n",
       "      <td>1</td>\n",
       "      <td>16</td>\n",
       "    </tr>\n",
       "    <tr>\n",
       "      <th>1</th>\n",
       "      <td>0.350</td>\n",
       "      <td>0.265</td>\n",
       "      <td>0.090</td>\n",
       "      <td>0.2255</td>\n",
       "      <td>0.0995</td>\n",
       "      <td>0.0485</td>\n",
       "      <td>0.070</td>\n",
       "      <td>0</td>\n",
       "      <td>1</td>\n",
       "      <td>8</td>\n",
       "    </tr>\n",
       "    <tr>\n",
       "      <th>2</th>\n",
       "      <td>0.530</td>\n",
       "      <td>0.420</td>\n",
       "      <td>0.135</td>\n",
       "      <td>0.6770</td>\n",
       "      <td>0.2565</td>\n",
       "      <td>0.1415</td>\n",
       "      <td>0.210</td>\n",
       "      <td>0</td>\n",
       "      <td>0</td>\n",
       "      <td>10</td>\n",
       "    </tr>\n",
       "    <tr>\n",
       "      <th>3</th>\n",
       "      <td>0.440</td>\n",
       "      <td>0.365</td>\n",
       "      <td>0.125</td>\n",
       "      <td>0.5160</td>\n",
       "      <td>0.2155</td>\n",
       "      <td>0.1140</td>\n",
       "      <td>0.155</td>\n",
       "      <td>0</td>\n",
       "      <td>1</td>\n",
       "      <td>11</td>\n",
       "    </tr>\n",
       "    <tr>\n",
       "      <th>6</th>\n",
       "      <td>0.530</td>\n",
       "      <td>0.415</td>\n",
       "      <td>0.150</td>\n",
       "      <td>0.7775</td>\n",
       "      <td>0.2370</td>\n",
       "      <td>0.1415</td>\n",
       "      <td>0.330</td>\n",
       "      <td>1</td>\n",
       "      <td>0</td>\n",
       "      <td>21</td>\n",
       "    </tr>\n",
       "  </tbody>\n",
       "</table>\n",
       "</div>"
      ],
      "text/plain": [
       "   Length  Diameter  Height   Whole  Shucked  Viscera  Shell  Rings  Sex_Val  \\\n",
       "0   0.455     0.365   0.095  0.5140   0.2245   0.1010  0.150      1        1   \n",
       "1   0.350     0.265   0.090  0.2255   0.0995   0.0485  0.070      0        1   \n",
       "2   0.530     0.420   0.135  0.6770   0.2565   0.1415  0.210      0        0   \n",
       "3   0.440     0.365   0.125  0.5160   0.2155   0.1140  0.155      0        1   \n",
       "6   0.530     0.415   0.150  0.7775   0.2370   0.1415  0.330      1        0   \n",
       "\n",
       "   Age  \n",
       "0   16  \n",
       "1    8  \n",
       "2   10  \n",
       "3   11  \n",
       "6   21  "
      ]
     },
     "execution_count": 8,
     "metadata": {},
     "output_type": "execute_result"
    }
   ],
   "source": [
    "#BinRings\n",
    "a = 0\n",
    "b = 1\n",
    "dicto={0: 'Low', 1: \"High\"}\n",
    "df[\"Rings\"] = df[\"Rings\"].apply(lambda x: a if x < df[\"Rings\"].mean() else b)\n",
    "df.head()"
   ]
  },
  {
   "cell_type": "code",
   "execution_count": 9,
   "metadata": {},
   "outputs": [
    {
     "data": {
      "text/plain": [
       "(array([ 1543.,     0.,     0.,     0.,     0.,     0.,     0.,     0.,\n",
       "            0.,  1292.]),\n",
       " array([ 0. ,  0.1,  0.2,  0.3,  0.4,  0.5,  0.6,  0.7,  0.8,  0.9,  1. ]),\n",
       " <a list of 10 Patch objects>)"
      ]
     },
     "execution_count": 9,
     "metadata": {},
     "output_type": "execute_result"
    },
    {
     "data": {
      "image/png": "[encoded data removed]",
      "text/plain": [
       "<matplotlib.figure.Figure at 0x1a10baae90>"
      ]
     },
     "metadata": {},
     "output_type": "display_data"
    }
   ],
   "source": [
    "plt.hist(df[\"Rings\"])"
   ]
  },
  {
   "cell_type": "code",
   "execution_count": 10,
   "metadata": {
    "scrolled": false
   },
   "outputs": [
    {
     "data": {
      "text/html": [
       "<div>\n",
       "<style scoped>\n",
       "    .dataframe tbody tr th:only-of-type {\n",
       "        vertical-align: middle;\n",
       "    }\n",
       "\n",
       "    .dataframe tbody tr th {\n",
       "        vertical-align: top;\n",
       "    }\n",
       "\n",
       "    .dataframe thead th {\n",
       "        text-align: right;\n",
       "    }\n",
       "</style>\n",
       "<table border=\"1\" class=\"dataframe\">\n",
       "  <thead>\n",
       "    <tr style=\"text-align: right;\">\n",
       "      <th></th>\n",
       "      <th>Length</th>\n",
       "      <th>Diameter</th>\n",
       "      <th>Height</th>\n",
       "      <th>Whole</th>\n",
       "      <th>Shucked</th>\n",
       "      <th>Viscera</th>\n",
       "      <th>Shell</th>\n",
       "      <th>Rings</th>\n",
       "    </tr>\n",
       "  </thead>\n",
       "  <tbody>\n",
       "    <tr>\n",
       "      <th>0</th>\n",
       "      <td>0.455</td>\n",
       "      <td>0.365</td>\n",
       "      <td>0.095</td>\n",
       "      <td>0.5140</td>\n",
       "      <td>0.2245</td>\n",
       "      <td>0.1010</td>\n",
       "      <td>0.150</td>\n",
       "      <td>1</td>\n",
       "    </tr>\n",
       "    <tr>\n",
       "      <th>1</th>\n",
       "      <td>0.350</td>\n",
       "      <td>0.265</td>\n",
       "      <td>0.090</td>\n",
       "      <td>0.2255</td>\n",
       "      <td>0.0995</td>\n",
       "      <td>0.0485</td>\n",
       "      <td>0.070</td>\n",
       "      <td>0</td>\n",
       "    </tr>\n",
       "    <tr>\n",
       "      <th>2</th>\n",
       "      <td>0.530</td>\n",
       "      <td>0.420</td>\n",
       "      <td>0.135</td>\n",
       "      <td>0.6770</td>\n",
       "      <td>0.2565</td>\n",
       "      <td>0.1415</td>\n",
       "      <td>0.210</td>\n",
       "      <td>0</td>\n",
       "    </tr>\n",
       "    <tr>\n",
       "      <th>3</th>\n",
       "      <td>0.440</td>\n",
       "      <td>0.365</td>\n",
       "      <td>0.125</td>\n",
       "      <td>0.5160</td>\n",
       "      <td>0.2155</td>\n",
       "      <td>0.1140</td>\n",
       "      <td>0.155</td>\n",
       "      <td>0</td>\n",
       "    </tr>\n",
       "    <tr>\n",
       "      <th>6</th>\n",
       "      <td>0.530</td>\n",
       "      <td>0.415</td>\n",
       "      <td>0.150</td>\n",
       "      <td>0.7775</td>\n",
       "      <td>0.2370</td>\n",
       "      <td>0.1415</td>\n",
       "      <td>0.330</td>\n",
       "      <td>1</td>\n",
       "    </tr>\n",
       "  </tbody>\n",
       "</table>\n",
       "</div>"
      ],
      "text/plain": [
       "   Length  Diameter  Height   Whole  Shucked  Viscera  Shell  Rings\n",
       "0   0.455     0.365   0.095  0.5140   0.2245   0.1010  0.150      1\n",
       "1   0.350     0.265   0.090  0.2255   0.0995   0.0485  0.070      0\n",
       "2   0.530     0.420   0.135  0.6770   0.2565   0.1415  0.210      0\n",
       "3   0.440     0.365   0.125  0.5160   0.2155   0.1140  0.155      0\n",
       "6   0.530     0.415   0.150  0.7775   0.2370   0.1415  0.330      1"
      ]
     },
     "execution_count": 10,
     "metadata": {},
     "output_type": "execute_result"
    }
   ],
   "source": [
    "## Decision Tree\n",
    "names = ['Length','Diameter','Height','Whole','Shucked','Viscera','Shell','Rings']\n",
    "col = ['Length','Diameter','Height','Whole','Shucked','Viscera','Shell']\n",
    "df = df[names]# rearrange as you like\n",
    "#df.describe()\n",
    "df.head()"
   ]
  },
  {
   "cell_type": "code",
   "execution_count": 11,
   "metadata": {},
   "outputs": [],
   "source": [
    "#df.to_csv('output.csv', index=False )"
   ]
  },
  {
   "cell_type": "code",
   "execution_count": 12,
   "metadata": {},
   "outputs": [
    {
     "data": {
      "image/png": "[encoded data removed]",
      "text/plain": [
       "<matplotlib.figure.Figure at 0x1a110dd090>"
      ]
     },
     "metadata": {},
     "output_type": "display_data"
    }
   ],
   "source": [
    "#Convert the DataFrame to a numpy array:\n",
    "train_data = df.values\n",
    "train_data\n",
    "train_features = df.iloc[:,0:7].values\n",
    "train_target = df.iloc[:, -1].values     \n",
    "cm = np.corrcoef(df.iloc[:,0:7].values.T)\n",
    "sns.set(style='whitegrid', context='notebook', font_scale=1)\n",
    "hm = sns.heatmap(cm, cbar=True, annot=True, square=True, fmt='.2f',\n",
    "                 annot_kws={'size': 10}, yticklabels=col, xticklabels=col)\n",
    "#I coefficienti di correlazione sono limitati all’intervallo compreso fra -1 e 1. Due caratteristiche hanno una correlazione positiva perfetta se , non\n",
    "#hanno alcuna correlazione se e hanno una correlazione negativa perfetta se .\n",
    "#possiamo vedere che tutti le proprietà sono correlate fra di loro con una proprietà chee sta in borderline (height)"
   ]
  },
  {
   "cell_type": "code",
   "execution_count": 13,
   "metadata": {},
   "outputs": [
    {
     "data": {
      "text/plain": [
       "array([ 0.455 ,  0.365 ,  0.095 ,  0.514 ,  0.2245,  0.101 ,  0.15  ])"
      ]
     },
     "execution_count": 13,
     "metadata": {},
     "output_type": "execute_result"
    }
   ],
   "source": [
    "train_features[0]"
   ]
  },
  {
   "cell_type": "code",
   "execution_count": 14,
   "metadata": {},
   "outputs": [
    {
     "data": {
      "text/plain": [
       "1"
      ]
     },
     "execution_count": 14,
     "metadata": {},
     "output_type": "execute_result"
    }
   ],
   "source": [
    "train_target[0]"
   ]
  },
  {
   "cell_type": "code",
   "execution_count": 15,
   "metadata": {},
   "outputs": [],
   "source": [
    "# Fit the model to our training data\n",
    "#clf = tree.DecisionTreeClassifier(criterion='gini', splitter='best', max_depth=10, \n",
    "#                                  min_samples_split=2, min_samples_leaf=2)\n",
    "#clf = clf.fit(train_features, train_target)"
   ]
  },
  {
   "cell_type": "code",
   "execution_count": 16,
   "metadata": {},
   "outputs": [],
   "source": [
    "#clf.feature_importances_"
   ]
  },
  {
   "cell_type": "code",
   "execution_count": 17,
   "metadata": {},
   "outputs": [],
   "source": [
    "#pred_target = clf.predict(train_features)\n",
    "\n",
    "#print(metrics.precision_score(train_target, pred_target, average='weighted'))\n",
    "#print(metrics.recall_score(train_target, pred_target, average='weighted'))\n",
    "#print(metrics.f1_score(train_target, pred_target, average='weighted'))\n",
    "#print(metrics.accuracy_score(train_target, pred_target))\n",
    "#print(metrics.precision_recall_fscore_support(train_target, pred_target))"
   ]
  },
  {
   "cell_type": "code",
   "execution_count": 18,
   "metadata": {},
   "outputs": [],
   "source": [
    "#20/80\n",
    "train_x, test_x, train_y, test_y = train_test_split(train_features, \n",
    "                                                    train_target, \n",
    "                                                    test_size=0.20, \n",
    "                                                    random_state=0)"
   ]
  },
  {
   "cell_type": "code",
   "execution_count": 19,
   "metadata": {},
   "outputs": [
    {
     "name": "stdout",
     "output_type": "stream",
     "text": [
      "Test size: 567; Training size: 2268\n"
     ]
    }
   ],
   "source": [
    "print(\"Test size: {}; Training size: {}\".format(len(test_x),len(train_x)))"
   ]
  },
  {
   "cell_type": "code",
   "execution_count": 20,
   "metadata": {},
   "outputs": [
    {
     "data": {
      "text/plain": [
       "(2268, 567, 2835)"
      ]
     },
     "execution_count": 20,
     "metadata": {},
     "output_type": "execute_result"
    }
   ],
   "source": [
    "len(train_x), len(test_x), len(train_x) + len(test_x)"
   ]
  },
  {
   "cell_type": "code",
   "execution_count": 21,
   "metadata": {},
   "outputs": [],
   "source": [
    "#len(train_y), len(test_y), len(train_y) + len(test_y)"
   ]
  },
  {
   "cell_type": "code",
   "execution_count": 22,
   "metadata": {},
   "outputs": [
    {
     "data": {
      "text/plain": [
       "((2268, 7), (567, 7))"
      ]
     },
     "execution_count": 22,
     "metadata": {},
     "output_type": "execute_result"
    }
   ],
   "source": [
    "train_x.shape, test_x.shape"
   ]
  },
  {
   "cell_type": "code",
   "execution_count": 23,
   "metadata": {},
   "outputs": [],
   "source": [
    "# Fit the model to our training data\n",
    "#split con entropy: accuratezza sul test leggermente migliore\n",
    "clf = tree.DecisionTreeClassifier(criterion='entropy', splitter='best', max_depth=10, \n",
    "                                  min_samples_split=2, min_samples_leaf=10)\n",
    "clf = clf.fit(train_x, train_y)"
   ]
  },
  {
   "cell_type": "code",
   "execution_count": 24,
   "metadata": {},
   "outputs": [],
   "source": [
    "train_pred = clf.predict(train_x)\n",
    "test_pred = clf.predict(test_x)"
   ]
  },
  {
   "cell_type": "code",
   "execution_count": 25,
   "metadata": {},
   "outputs": [
    {
     "name": "stdout",
     "output_type": "stream",
     "text": [
      "0.812169312169\n",
      "0.689594356261\n"
     ]
    }
   ],
   "source": [
    "#Accuratezza_training&test_noCrossValidation\n",
    "print(metrics.accuracy_score(train_y, train_pred))\n",
    "print(metrics.accuracy_score(test_y, test_pred))"
   ]
  },
  {
   "cell_type": "code",
   "execution_count": 26,
   "metadata": {
    "scrolled": true
   },
   "outputs": [],
   "source": [
    "#Albero\n",
    "dot_data = tree.export_graphviz(clf, out_file=None, \n",
    "                         feature_names=col,  \n",
    "                         class_names=[dicto[a], dicto[b]],  \n",
    "                         filled=True, rounded=True,  \n",
    "                         special_characters=True)  \n",
    "graph = pydotplus.graph_from_dot_data(dot_data)  \n",
    "Image(graph.create_png())\n",
    "Siamo partiti con 2268 campioni alla radice e abbiamo suddiviso due nodi figli, con 1540 e 728 campioni ciascuno, utilizzando per\n",
    "la separazione il valore di shell (petal width ≤ 0.339 cm). Dopo la\n",
    "prima suddivisione, questo procede per una profondità di impostata a 3.\n"
   ]
  },
  {
   "cell_type": "code",
   "execution_count": 27,
   "metadata": {},
   "outputs": [
    {
     "name": "stdout",
     "output_type": "stream",
     "text": [
      "[[234  65]\n",
      " [111 157]]\n"
     ]
    }
   ],
   "source": [
    "cm = confusion_matrix(test_y, test_pred)\n",
    "print(cm)"
   ]
  },
  {
   "cell_type": "code",
   "execution_count": 28,
   "metadata": {},
   "outputs": [
    {
     "data": {
      "image/png": "[encoded data removed]",
      "text/plain": [
       "<matplotlib.figure.Figure at 0x1a1a0ee950>"
      ]
     },
     "metadata": {},
     "output_type": "display_data"
    }
   ],
   "source": [
    "plt.matshow(cm)\n",
    "plt.title('Confusion matrix')\n",
    "plt.colorbar()\n",
    "plt.ylabel('True label')\n",
    "plt.xlabel('Predicted label')\n",
    "plt.show()"
   ]
  },
  {
   "cell_type": "code",
   "execution_count": 29,
   "metadata": {},
   "outputs": [
    {
     "name": "stdout",
     "output_type": "stream",
     "text": [
      "             precision    recall  f1-score   support\n",
      "\n",
      "        Low       0.68      0.78      0.73       299\n",
      "       High       0.71      0.59      0.64       268\n",
      "\n",
      "avg / total       0.69      0.69      0.69       567\n",
      "\n"
     ]
    }
   ],
   "source": [
    "from sklearn.metrics import classification_report\n",
    "print(classification_report(test_y, \n",
    "                            test_pred, \n",
    "                            target_names=[dicto[a], dicto[b]]))"
   ]
  },
  {
   "cell_type": "code",
   "execution_count": 30,
   "metadata": {},
   "outputs": [
    {
     "name": "stdout",
     "output_type": "stream",
     "text": [
      "Accuracy: 0.69 (+/- 0.08)\n"
     ]
    }
   ],
   "source": [
    "# cross validation_DecisionTree\n",
    "scores = cross_validation.cross_val_score(clf, train_features, train_target, cv=10)\n",
    "print('Accuracy: %0.2f (+/- %0.2f)' % (scores.mean(), scores.std() * 2))"
   ]
  },
  {
   "cell_type": "code",
   "execution_count": 31,
   "metadata": {},
   "outputs": [
    {
     "name": "stdout",
     "output_type": "stream",
     "text": [
      "0.762423251635\n"
     ]
    }
   ],
   "source": [
    "#roc_DecisionTree\n",
    "y_score1 = clf.predict_proba(test_x)\n",
    "fpr1, tpr1, _ =  roc_curve(test_y, y_score1[:,1])\n",
    "print auc(fpr1, tpr1)"
   ]
  },
  {
   "cell_type": "code",
   "execution_count": 32,
   "metadata": {},
   "outputs": [],
   "source": [
    "##Random Forest\n",
    "\n",
    "clf = RandomForestClassifier(n_estimators=100, \n",
    "                             criterion='gini',\n",
    "                             max_features=None,\n",
    "                             max_depth=10, \n",
    "                             min_samples_split=2,\n",
    "                             min_samples_leaf=5,\n",
    "                             bootstrap=True,\n",
    "                             oob_score=False,\n",
    "                             random_state=None,\n",
    "                             class_weight=None) #balanced"
   ]
  },
  {
   "cell_type": "code",
   "execution_count": 33,
   "metadata": {},
   "outputs": [
    {
     "name": "stdout",
     "output_type": "stream",
     "text": [
      "Accuracy: 0.72 (+/- 0.09)\n"
     ]
    }
   ],
   "source": [
    "#cross validation_RandomForest\n",
    "scores = cross_validation.cross_val_score(clf, train_features, train_target, cv=10)\n",
    "print 'Accuracy: %0.2f (+/- %0.2f)' % (scores.mean(), scores.std() * 2)"
   ]
  },
  {
   "cell_type": "code",
   "execution_count": 34,
   "metadata": {},
   "outputs": [
    {
     "data": {
      "text/plain": [
       "DecisionTreeClassifier(class_weight=None, criterion='gini', max_depth=None,\n",
       "            max_features=None, max_leaf_nodes=None,\n",
       "            min_impurity_decrease=0.0, min_impurity_split=None,\n",
       "            min_samples_leaf=1, min_samples_split=2,\n",
       "            min_weight_fraction_leaf=0.0, presort=False, random_state=None,\n",
       "            splitter='best')"
      ]
     },
     "execution_count": 34,
     "metadata": {},
     "output_type": "execute_result"
    }
   ],
   "source": [
    "clf.base_estimator"
   ]
  },
  {
   "cell_type": "code",
   "execution_count": 35,
   "metadata": {},
   "outputs": [],
   "source": [
    "def report(results, n_top=3):\n",
    "    for i in range(1, n_top + 1):\n",
    "        candidates = np.flatnonzero(results['rank_test_score'] == i)\n",
    "        for candidate in candidates:\n",
    "            print(\"Model with rank: {0}\".format(i))\n",
    "            print(\"Mean validation score: {0:.3f} (std: {1:.3f})\".format(\n",
    "                  results['mean_test_score'][candidate],\n",
    "                  results['std_test_score'][candidate]))\n",
    "            print(\"Parameters: {0}\".format(results['params'][candidate]))\n",
    "            print(\"\")"
   ]
  },
  {
   "cell_type": "code",
   "execution_count": 36,
   "metadata": {},
   "outputs": [],
   "source": [
    "clf = RandomForestClassifier(n_estimators=20)"
   ]
  },
  {
   "cell_type": "code",
   "execution_count": 37,
   "metadata": {},
   "outputs": [],
   "source": [
    "param_dist = {\"max_depth\": [2,3,4,5,6,7,8,9,10,11,12,None],\n",
    "              \"max_features\": sp_randint(1, len(train_x[0]) + 1),\n",
    "              \"min_samples_split\": sp_randint(10, 51),\n",
    "              \"min_samples_leaf\": sp_randint(10, 51),\n",
    "              \"bootstrap\": [True],\n",
    "              \"criterion\": [\"entropy\", \"gini\"],\n",
    "              \"class_weight\":['balanced', None, {0: 0.3, 1: 0.7}]}\n",
    "\n",
    "n_iter_search = 100\n",
    "search = RandomizedSearchCV(clf, param_distributions=param_dist, n_iter=n_iter_search, \n",
    "                            n_jobs=10, scoring=make_scorer(accuracy_score))"
   ]
  },
  {
   "cell_type": "code",
   "execution_count": 38,
   "metadata": {},
   "outputs": [
    {
     "data": {
      "text/plain": [
       "RandomizedSearchCV(cv=None, error_score='raise',\n",
       "          estimator=RandomForestClassifier(bootstrap=True, class_weight=None, criterion='gini',\n",
       "            max_depth=None, max_features='auto', max_leaf_nodes=None,\n",
       "            min_impurity_decrease=0.0, min_impurity_split=None,\n",
       "            min_samples_leaf=1, min_samples_split=2,\n",
       "            min_weight_fraction_leaf=0.0, n_estimators=20, n_jobs=1,\n",
       "            oob_score=False, random_state=None, verbose=0,\n",
       "            warm_start=False),\n",
       "          fit_params=None, iid=True, n_iter=100, n_jobs=10,\n",
       "          param_distributions={'bootstrap': [True], 'min_samples_leaf': <scipy.stats._distn_infrastructure.rv_frozen object at 0x1a19f7db10>, 'min_samples_split': <scipy.stats._distn_infrastructure.rv_frozen object at 0x1a1a0ee990>, 'criterion': ['entropy', 'gini'], 'max_features': <scipy.stats._distn_infrastructure.rv_frozen object at 0x1a1ab08d50>, 'max_depth': [2, 3, 4, 5, 6, 7, 8, 9, 10, 11, 12, None], 'class_weight': ['balanced', None, {0: 0.3, 1: 0.7}]},\n",
       "          pre_dispatch='2*n_jobs', random_state=None, refit=True,\n",
       "          return_train_score='warn', scoring=make_scorer(accuracy_score),\n",
       "          verbose=0)"
      ]
     },
     "execution_count": 38,
     "metadata": {},
     "output_type": "execute_result"
    }
   ],
   "source": [
    "search.fit(train_features, train_target)"
   ]
  },
  {
   "cell_type": "code",
   "execution_count": 39,
   "metadata": {},
   "outputs": [
    {
     "name": "stdout",
     "output_type": "stream",
     "text": [
      "Model with rank: 1\n",
      "Mean validation score: 0.731 (std: 0.016)\n",
      "Parameters: {'bootstrap': True, 'min_samples_leaf': 26, 'min_samples_split': 20, 'criterion': 'entropy', 'max_features': 4, 'max_depth': 8, 'class_weight': 'balanced'}\n",
      "\n",
      "Model with rank: 2\n",
      "Mean validation score: 0.730 (std: 0.022)\n",
      "Parameters: {'bootstrap': True, 'min_samples_leaf': 13, 'min_samples_split': 49, 'criterion': 'entropy', 'max_features': 5, 'max_depth': 9, 'class_weight': None}\n",
      "\n",
      "Model with rank: 3\n",
      "Mean validation score: 0.729 (std: 0.014)\n",
      "Parameters: {'bootstrap': True, 'min_samples_leaf': 16, 'min_samples_split': 28, 'criterion': 'entropy', 'max_features': 2, 'max_depth': 9, 'class_weight': None}\n",
      "\n"
     ]
    }
   ],
   "source": [
    "report(search.cv_results_, 3) #search.best_estimator_.estimators_[0]"
   ]
  },
  {
   "cell_type": "code",
   "execution_count": 40,
   "metadata": {},
   "outputs": [
    {
     "name": "stdout",
     "output_type": "stream",
     "text": [
      "Accuracy: 0.71 (+/- 0.09)\n"
     ]
    }
   ],
   "source": [
    "#cross validation_(RandomizedSearch)\n",
    "scores = cross_validation.cross_val_score(search.best_estimator_.estimators_[0], train_features, train_target, cv=10)\n",
    "print 'Accuracy: %0.2f (+/- %0.2f)' % (scores.mean(), scores.std() * 2)"
   ]
  },
  {
   "cell_type": "code",
   "execution_count": 41,
   "metadata": {},
   "outputs": [],
   "source": [
    "param_grid = {\"max_depth\": [2,3,4,5,6]}\n",
    "search = GridSearchCV(clf, param_grid=param_grid, scoring=make_scorer(accuracy_score))"
   ]
  },
  {
   "cell_type": "code",
   "execution_count": 42,
   "metadata": {},
   "outputs": [
    {
     "data": {
      "text/plain": [
       "GridSearchCV(cv=None, error_score='raise',\n",
       "       estimator=RandomForestClassifier(bootstrap=True, class_weight=None, criterion='gini',\n",
       "            max_depth=None, max_features='auto', max_leaf_nodes=None,\n",
       "            min_impurity_decrease=0.0, min_impurity_split=None,\n",
       "            min_samples_leaf=1, min_samples_split=2,\n",
       "            min_weight_fraction_leaf=0.0, n_estimators=20, n_jobs=1,\n",
       "            oob_score=False, random_state=None, verbose=0,\n",
       "            warm_start=False),\n",
       "       fit_params=None, iid=True, n_jobs=1,\n",
       "       param_grid={'max_depth': [2, 3, 4, 5, 6]}, pre_dispatch='2*n_jobs',\n",
       "       refit=True, return_train_score='warn',\n",
       "       scoring=make_scorer(accuracy_score), verbose=0)"
      ]
     },
     "execution_count": 42,
     "metadata": {},
     "output_type": "execute_result"
    }
   ],
   "source": [
    "search.fit(train_features, train_target)"
   ]
  },
  {
   "cell_type": "code",
   "execution_count": 43,
   "metadata": {},
   "outputs": [
    {
     "name": "stdout",
     "output_type": "stream",
     "text": [
      "Model with rank: 1\n",
      "Mean validation score: 0.720 (std: 0.006)\n",
      "Parameters: {'max_depth': 6}\n",
      "\n",
      "Model with rank: 2\n",
      "Mean validation score: 0.708 (std: 0.019)\n",
      "Parameters: {'max_depth': 5}\n",
      "\n",
      "Model with rank: 3\n",
      "Mean validation score: 0.691 (std: 0.035)\n",
      "Parameters: {'max_depth': 4}\n",
      "\n"
     ]
    }
   ],
   "source": [
    "report(search.cv_results_, 3) #search.best_estimator_.estimators_[0]"
   ]
  },
  {
   "cell_type": "code",
   "execution_count": 44,
   "metadata": {},
   "outputs": [
    {
     "name": "stdout",
     "output_type": "stream",
     "text": [
      "Accuracy: 0.70 (+/- 0.07)\n"
     ]
    }
   ],
   "source": [
    "#cross validation_RandomForest(GridSearch)\n",
    "scores = cross_validation.cross_val_score(clf, train_features, train_target, cv=10)\n",
    "print 'Accuracy: %0.2f (+/- %0.2f)' % (scores.mean(), scores.std() * 2)"
   ]
  },
  {
   "cell_type": "code",
   "execution_count": 45,
   "metadata": {},
   "outputs": [
    {
     "data": {
      "text/plain": [
       "DecisionTreeClassifier(class_weight=None, criterion='gini', max_depth=6,\n",
       "            max_features='auto', max_leaf_nodes=None,\n",
       "            min_impurity_decrease=0.0, min_impurity_split=None,\n",
       "            min_samples_leaf=1, min_samples_split=2,\n",
       "            min_weight_fraction_leaf=0.0, presort=False,\n",
       "            random_state=1006482192, splitter='best')"
      ]
     },
     "execution_count": 45,
     "metadata": {},
     "output_type": "execute_result"
    }
   ],
   "source": [
    "search.best_estimator_.estimators_[0]"
   ]
  },
  {
   "cell_type": "code",
   "execution_count": 46,
   "metadata": {},
   "outputs": [
    {
     "name": "stdout",
     "output_type": "stream",
     "text": [
      "Accuracy: 0.67 (+/- 0.09)\n"
     ]
    }
   ],
   "source": [
    "#cross validation_bestEstimator\n",
    "scores = cross_validation.cross_val_score(search.best_estimator_.estimators_[0], train_features, train_target, cv=10)\n",
    "print 'Accuracy: %0.2f (+/- %0.2f)' % (scores.mean(), scores.std() * 2)"
   ]
  },
  {
   "cell_type": "code",
   "execution_count": 47,
   "metadata": {},
   "outputs": [
    {
     "name": "stdout",
     "output_type": "stream",
     "text": [
      "0.804322867269\n"
     ]
    }
   ],
   "source": [
    "#roc_bestEstimator\n",
    "search.best_estimator_.estimators_[0]\n",
    "y_score7 = search.best_estimator_.estimators_[0].predict_proba(test_x)\n",
    "fpr7, tpr7, _ =  roc_curve(test_y, y_score7[:,1])\n",
    "print(auc(fpr7, tpr7))"
   ]
  },
  {
   "cell_type": "code",
   "execution_count": 48,
   "metadata": {
    "scrolled": true
   },
   "outputs": [],
   "source": [
    "#Albero\n",
    "dot_data = tree.export_graphviz(search.best_estimator_.estimators_[0], out_file=None, \n",
    "                         feature_names=col,  \n",
    "                         class_names=[dicto[a], dicto[b]],  \n",
    "                         filled=True, rounded=True,  \n",
    "                         special_characters=True,\n",
    "                               max_depth=5)\n",
    "graph = pydotplus.graph_from_dot_data(dot_data)\n",
    "Image(graph.create_png())"
   ]
  },
  {
   "cell_type": "code",
   "execution_count": 49,
   "metadata": {},
   "outputs": [],
   "source": [
    "## k-NN\n",
    "\n",
    "n_neighbors = 13\n",
    "weights = 'uniform'\n",
    "clf = neighbors.KNeighborsClassifier(n_neighbors, weights=weights)\n"
   ]
  },
  {
   "cell_type": "code",
   "execution_count": 50,
   "metadata": {},
   "outputs": [
    {
     "data": {
      "text/plain": [
       "KNeighborsClassifier(algorithm='auto', leaf_size=30, metric='minkowski',\n",
       "           metric_params=None, n_jobs=1, n_neighbors=13, p=2,\n",
       "           weights='uniform')"
      ]
     },
     "execution_count": 50,
     "metadata": {},
     "output_type": "execute_result"
    }
   ],
   "source": [
    "nn = clf.fit(train_x, train_y)\n",
    "nn"
   ]
  },
  {
   "cell_type": "code",
   "execution_count": 51,
   "metadata": {},
   "outputs": [
    {
     "name": "stdout",
     "output_type": "stream",
     "text": [
      "error:  551\n"
     ]
    }
   ],
   "source": [
    "print \"error: \", sum(abs(np.array(clf.predict(train_x)) - np.array(train_y)))"
   ]
  },
  {
   "cell_type": "code",
   "execution_count": 52,
   "metadata": {},
   "outputs": [
    {
     "name": "stdout",
     "output_type": "stream",
     "text": [
      "Accuracy: 0.71 (+/- 0.05)\n"
     ]
    }
   ],
   "source": [
    "#cross validation_Knn\n",
    "scores = cross_validation.cross_val_score(nn, train_features, train_target, cv=10)\n",
    "print 'Accuracy: %0.2f (+/- %0.2f)' % (scores.mean(), scores.std() * 2)"
   ]
  },
  {
   "cell_type": "code",
   "execution_count": 53,
   "metadata": {},
   "outputs": [
    {
     "name": "stdout",
     "output_type": "stream",
     "text": [
      "0.824146408426\n"
     ]
    }
   ],
   "source": [
    "#roc_Knn\n",
    "y_score5 = nn.predict_proba(test_x)\n",
    "fpr5, tpr5, _ =  roc_curve(test_y, y_score5[:,1])\n",
    "print(auc(fpr5, tpr5))"
   ]
  },
  {
   "cell_type": "code",
   "execution_count": 54,
   "metadata": {},
   "outputs": [],
   "source": [
    "##Knn_vettori_normalizzati\n",
    "\n",
    "train_features_norm = (train_x - train_x.mean(axis=0))/ train_x.std(axis=0)"
   ]
  },
  {
   "cell_type": "code",
   "execution_count": 55,
   "metadata": {},
   "outputs": [],
   "source": [
    "nn_norm = clf.fit(train_features_norm, train_y)"
   ]
  },
  {
   "cell_type": "code",
   "execution_count": 56,
   "metadata": {},
   "outputs": [
    {
     "name": "stdout",
     "output_type": "stream",
     "text": [
      "0 : [-0.14702819  0.05104113  0.65782465 -0.30553742 -0.51443705 -0.19572365\n",
      "  0.11338834] predicted:  1  real:  0\n",
      "1 : [ 0.11332466 -0.01225099 -0.58857995 -0.43826358 -0.27863465 -0.29872722\n",
      " -0.54611788] predicted:  0  real:  0\n",
      "2 : [-0.9801573  -0.70846427 -1.05598167 -1.0653947  -1.05206654 -1.04427687\n",
      " -0.93406271] predicted:  0  real:  0\n",
      "3 : [ 1.05059491  0.87383865  0.3462235   0.35698734  0.4216985   0.61849504\n",
      "  0.1987362 ] predicted:  0  real:  1\n",
      "4 : [ 1.4150889   1.31688347  1.74842867  0.94319455  1.03006872  1.01579452\n",
      "  1.33153511] predicted:  1  real:  1\n",
      "5 : [-0.04288705  0.11433325  0.65782465  0.00194486 -0.44605436 -0.14667433\n",
      "  0.46253869] predicted:  1  real:  1\n",
      "6 : [ 0.37367751  0.43079383  0.65782465  0.34592683  0.21183436  0.08385747\n",
      "  0.50909207] predicted:  0  real:  0\n",
      "7 : [ 0.42574808  0.55737807  0.19042292  0.29615451  0.75653792  0.23591035\n",
      " -0.19696753] predicted:  0  real:  0\n",
      "8 : [-0.92808673 -0.89834063 -1.21178224 -0.7424277  -0.54744939 -1.13256564\n",
      " -0.93406271] predicted:  0  real:  0\n",
      "9 : [ 0.7381715   0.93713077  0.65782465  0.52178899 -0.05698038  0.36834352\n",
      "  1.47119525] predicted:  1  real:  1\n"
     ]
    }
   ],
   "source": [
    "for i in range(10):\n",
    "    p = clf.predict(train_features_norm[i].reshape(1, -1))\n",
    "    print i, \":\", train_features_norm[i], \"predicted: \", p[0], \" real: \", train_y[i]"
   ]
  },
  {
   "cell_type": "code",
   "execution_count": 57,
   "metadata": {},
   "outputs": [
    {
     "name": "stdout",
     "output_type": "stream",
     "text": [
      "error:  586\n"
     ]
    }
   ],
   "source": [
    "print \"error: \", sum(abs(np.array(clf.predict(train_features_norm)) - np.array(train_y)))"
   ]
  },
  {
   "cell_type": "code",
   "execution_count": 58,
   "metadata": {},
   "outputs": [
    {
     "name": "stdout",
     "output_type": "stream",
     "text": [
      "Accuracy: 0.71 (+/- 0.05)\n"
     ]
    }
   ],
   "source": [
    "#cross validation_Knn_norm\n",
    "scores = cross_validation.cross_val_score(nn_norm, train_features, train_target, cv=10)\n",
    "print('Accuracy: %0.2f (+/- %0.2f)' % (scores.mean(), scores.std() * 2))"
   ]
  },
  {
   "cell_type": "code",
   "execution_count": 59,
   "metadata": {},
   "outputs": [
    {
     "name": "stdout",
     "output_type": "stream",
     "text": [
      "0.730993860131\n"
     ]
    }
   ],
   "source": [
    "#roc_Knn_norm\n",
    "y_score15 = nn_norm.predict_proba(test_x)\n",
    "fpr15, tpr15, _ =  roc_curve(test_y, y_score15[:,1])\n",
    "print(auc(fpr15, tpr15))"
   ]
  },
  {
   "cell_type": "code",
   "execution_count": 60,
   "metadata": {},
   "outputs": [
    {
     "data": {
      "text/plain": [
       "MLPClassifier(activation='relu', alpha=1e-05, batch_size='auto', beta_1=0.9,\n",
       "       beta_2=0.999, early_stopping=False, epsilon=1e-08,\n",
       "       hidden_layer_sizes=(10, 5), learning_rate='constant',\n",
       "       learning_rate_init=0.001, max_iter=200, momentum=0.9,\n",
       "       nesterovs_momentum=True, power_t=0.5, random_state=1, shuffle=True,\n",
       "       solver='lbfgs', tol=0.0001, validation_fraction=0.1, verbose=False,\n",
       "       warm_start=False)"
      ]
     },
     "execution_count": 60,
     "metadata": {},
     "output_type": "execute_result"
    }
   ],
   "source": [
    "## Neural Networks\n",
    "\n",
    "from sklearn.neural_network import MLPClassifier\n",
    "clf = MLPClassifier(solver='lbfgs', alpha=1e-5, hidden_layer_sizes=(10, 5), random_state=1)\n",
    "neu_net = clf.fit(train_x, train_y)\n",
    "neu_net\n",
    "#neu_net = clf.fit(train_features, train_target) "
   ]
  },
  {
   "cell_type": "code",
   "execution_count": 61,
   "metadata": {},
   "outputs": [
    {
     "name": "stdout",
     "output_type": "stream",
     "text": [
      "error:  597\n"
     ]
    }
   ],
   "source": [
    "print \"error: \", sum(abs(np.array(clf.predict(train_x)) - np.array(train_y)))"
   ]
  },
  {
   "cell_type": "code",
   "execution_count": 62,
   "metadata": {},
   "outputs": [
    {
     "data": {
      "text/plain": [
       "[array([[ 0.36331922,  0.1539306 ,  0.16401236, -0.23349731, -0.41971179,\n",
       "         -0.48436843, -0.96857304, -0.2897841 , -0.2676374 , -0.26575494],\n",
       "        [-0.97654704,  0.13319097,  0.63304769,  1.08648037, -0.56154085,\n",
       "          0.20254329, -0.67985878, -0.01509159, -0.53632514, -0.60355649],\n",
       "        [-1.21027528,  0.52475298, -0.38525765,  1.10162944,  0.44721188,\n",
       "          0.46885727, -0.89281277, -0.57833425, -0.43058421,  0.25971115],\n",
       "        [-0.70049893, -0.36737172, -0.69908369,  0.98246917,  0.2279814 ,\n",
       "         -0.21919761, -1.75505485,  0.07390984, -0.65000201, -0.75969958],\n",
       "        [ 3.43278291,  0.18563812,  3.83912149, -1.47236902, -0.47143241,\n",
       "         -0.06191101,  0.55718168, -0.37741037, -0.2831619 , -0.43249724],\n",
       "        [ 0.25414081,  0.15406153,  0.05122434, -0.42424469, -0.01001247,\n",
       "         -0.53067836, -0.23313377, -0.48208679,  0.08885235,  0.02304623],\n",
       "        [-1.60200653, -0.18650009, -1.60455174,  1.1441801 , -0.53472891,\n",
       "          0.0426508 , -1.11960237, -0.08272503,  0.5031931 , -0.42120833]]),\n",
       " array([[ 1.47656152, -0.69173259,  0.94941279, -0.19112799, -1.04144969],\n",
       "        [ 0.50075518, -0.07338857,  0.56850383,  0.20673661,  0.15393252],\n",
       "        [-0.94828094,  1.09196147, -0.76823983,  0.09915477,  0.67861233],\n",
       "        [ 0.20879873,  0.75860063, -0.10161271, -0.62881769,  0.93544547],\n",
       "        [-0.2192763 ,  0.0342257 ,  0.4881769 , -0.18053901,  0.51675477],\n",
       "        [ 0.15603781, -0.61243612,  0.54319375,  0.24146489,  0.62906204],\n",
       "        [ 0.00768408, -0.39104282,  0.58393098,  0.24895465, -0.54389718],\n",
       "        [ 0.32313438,  0.35284726,  0.51303159,  0.26755697, -0.46112516],\n",
       "        [-0.55018744, -0.64697976, -0.55129206, -0.32101679,  0.45414243],\n",
       "        [ 0.58106787,  0.01792255,  0.61566189, -0.47538194, -0.59415162]]),\n",
       " array([[-1.27366644],\n",
       "        [ 1.31109767],\n",
       "        [-1.73450184],\n",
       "        [ 0.72707547],\n",
       "        [ 1.79380123]])]"
      ]
     },
     "execution_count": 62,
     "metadata": {},
     "output_type": "execute_result"
    }
   ],
   "source": [
    "# weights of the network\n",
    "clf.coefs_"
   ]
  },
  {
   "cell_type": "code",
   "execution_count": 63,
   "metadata": {},
   "outputs": [
    {
     "name": "stdout",
     "output_type": "stream",
     "text": [
      "Accuracy: 0.73 (+/- 0.08)\n"
     ]
    }
   ],
   "source": [
    "#cross validation_NeuralNetwork\n",
    "scores = cross_validation.cross_val_score(neu_net, train_features, train_target, cv=10)\n",
    "print('Accuracy: %0.2f (+/- %0.2f)' % (scores.mean(), scores.std() * 2))"
   ]
  },
  {
   "cell_type": "code",
   "execution_count": 64,
   "metadata": {},
   "outputs": [
    {
     "name": "stdout",
     "output_type": "stream",
     "text": [
      "0.835658663206\n"
     ]
    }
   ],
   "source": [
    "#roc_NeuralNetwork\n",
    "y_score6 = neu_net.predict_proba(test_x)\n",
    "fpr6, tpr6, _ =  roc_curve(test_y, y_score6[:,1])\n",
    "print(auc(fpr6, tpr6))"
   ]
  },
  {
   "cell_type": "code",
   "execution_count": 65,
   "metadata": {},
   "outputs": [
    {
     "name": "stdout",
     "output_type": "stream",
     "text": [
      "Bagging: 0.827309938601\n",
      "Single DT: 0.734338341736\n"
     ]
    }
   ],
   "source": [
    "# Bagging\n",
    "\n",
    "from sklearn.ensemble import BaggingClassifier\n",
    "\n",
    "clf = tree.DecisionTreeClassifier(criterion='entropy', splitter='best', max_depth=10, \n",
    "                                  min_samples_split=2, min_samples_leaf=3)\n",
    "# max_sample = 100% + Bootstrap ==> ~62% of original dataset used as sample\n",
    "bag = BaggingClassifier(clf, n_estimators=100, max_samples=1.0, bootstrap=True)\n",
    "bag = bag.fit(train_x, train_y)\n",
    "\n",
    "y_score8 = bag.predict_proba(test_x)\n",
    "fpr8, tpr8, _ =  roc_curve(test_y, y_score8[:,1])\n",
    "print \"Bagging:\", auc(fpr8, tpr8)\n",
    "\n",
    "clf = clf.fit(train_x, train_y)\n",
    "y_score9 = clf.predict_proba(test_x)\n",
    "fpr9, tpr9, _ =  roc_curve(test_y, y_score9[:,1])\n",
    "print \"Single DT:\", auc(fpr9, tpr9)"
   ]
  },
  {
   "cell_type": "code",
   "execution_count": 66,
   "metadata": {},
   "outputs": [
    {
     "name": "stdout",
     "output_type": "stream",
     "text": [
      "Accuracy: 0.72 (+/- 0.08)\n"
     ]
    }
   ],
   "source": [
    "#cross validation_Bagging\n",
    "scores = cross_validation.cross_val_score(bag, train_features, train_target, cv=10)\n",
    "print('Accuracy: %0.2f (+/- %0.2f)' % (scores.mean(), scores.std() * 2))"
   ]
  },
  {
   "cell_type": "code",
   "execution_count": 67,
   "metadata": {},
   "outputs": [
    {
     "data": {
      "text/plain": [
       "(array([  4.,   9.,   5.,  11.,  18.,  16.,  14.,  13.,   5.,   5.]),\n",
       " array([ 0.79699121,  0.79940473,  0.80181825,  0.80423177,  0.80664529,\n",
       "         0.8090588 ,  0.81147232,  0.81388584,  0.81629936,  0.81871287,\n",
       "         0.82112639]),\n",
       " <a list of 10 Patch objects>)"
      ]
     },
     "execution_count": 67,
     "metadata": {},
     "output_type": "execute_result"
    },
    {
     "data": {
      "image/png": "[encoded data removed]",
      "text/plain": [
       "<matplotlib.figure.Figure at 0x1a1a0dd610>"
      ]
     },
     "metadata": {},
     "output_type": "display_data"
    }
   ],
   "source": [
    "# Bagging / 2\n",
    "\n",
    "from sklearn.ensemble import BaggingClassifier\n",
    "\n",
    "results = []\n",
    "for nnn in range(100):\n",
    "    clf = tree.DecisionTreeClassifier(criterion='gini', splitter='best', max_depth=None, \n",
    "                                      min_samples_split=2, min_samples_leaf=3)\n",
    "    # max_sample = 100% + Bootstrap ==> ~62% of original dataset used as sample\n",
    "    bag = BaggingClassifier(clf, n_estimators=20, max_samples=1.0, bootstrap=True)\n",
    "    bag = bag.fit(train_x, train_y)\n",
    "\n",
    "    y_score = bag.predict_proba(test_x)\n",
    "    fpr, tpr, _ =  roc_curve(test_y, y_score[:,1])\n",
    "    # print auc(fpr, tpr)\n",
    "    results.append(auc(fpr, tpr))\n",
    "plt.hist(results)"
   ]
  },
  {
   "cell_type": "code",
   "execution_count": 68,
   "metadata": {},
   "outputs": [
    {
     "name": "stdout",
     "output_type": "stream",
     "text": [
      "Accuracy: 0.70 (+/- 0.07)\n"
     ]
    }
   ],
   "source": [
    "#cross validation_Bagging(2)\n",
    "scores = cross_validation.cross_val_score(bag, train_features, train_target, cv=10)\n",
    "print('Accuracy: %0.2f (+/- %0.2f)' % (scores.mean(), scores.std() * 2))"
   ]
  },
  {
   "cell_type": "code",
   "execution_count": 69,
   "metadata": {},
   "outputs": [],
   "source": [
    "## Boosting with AdaBoost\n",
    "\n",
    "clf = tree.DecisionTreeClassifier(criterion='gini', splitter='best', max_depth=None, \n",
    "                                      min_samples_split=2, min_samples_leaf=20)\n",
    "ada = AdaBoostClassifier(base_estimator=clf, n_estimators=100)\n",
    "ada = ada.fit(train_x, train_y)"
   ]
  },
  {
   "cell_type": "code",
   "execution_count": 70,
   "metadata": {},
   "outputs": [
    {
     "name": "stdout",
     "output_type": "stream",
     "text": [
      "Accuracy: 0.69 (+/- 0.04)\n"
     ]
    }
   ],
   "source": [
    "#cross validation_AdaBoost\n",
    "scores = cross_validation.cross_val_score(ada, train_features, train_target, cv=10)\n",
    "print('Accuracy: %0.2f (+/- %0.2f)' % (scores.mean(), scores.std() * 2))"
   ]
  },
  {
   "cell_type": "code",
   "execution_count": 71,
   "metadata": {},
   "outputs": [
    {
     "name": "stdout",
     "output_type": "stream",
     "text": [
      "0.797265761494\n"
     ]
    }
   ],
   "source": [
    "#roc_AdaBoost\n",
    "y_score4 = ada.predict_proba(test_x)\n",
    "fpr4, tpr4, _ =  roc_curve(test_y, y_score[:,1])\n",
    "print(auc(fpr4, tpr4))"
   ]
  },
  {
   "cell_type": "code",
   "execution_count": 72,
   "metadata": {},
   "outputs": [],
   "source": [
    "#PLOT ROC CURVES\n",
    "\n",
    "from sklearn.metrics import roc_curve, auc\n",
    "##Bagging(2)\n",
    "#fpr, tpr, _ =  roc_curve(test_y, y_score[:,1])\n",
    "#roc_auc = auc(fpr, tpr)\n",
    "#DecisionTree\n",
    "fpr1, tpr1, _ =  roc_curve(test_y, y_score1[:,1])\n",
    "roc_auc1 = auc(fpr1, tpr1)\n",
    "##AdaBoost\n",
    "#fpr4, tpr4, _ =  roc_curve(test_y, y_score4[:,1])\n",
    "#roc_auc4 = auc(fpr4, tpr4)\n",
    "#Knn\n",
    "fpr5, tpr5, _ =  roc_curve(test_y, y_score5[:,1])\n",
    "roc_auc5 = auc(fpr5, tpr5)\n",
    "#NeuralNet\n",
    "fpr6, tpr6, _ =  roc_curve(test_y, y_score6[:,1])\n",
    "roc_auc6 = auc(fpr6, tpr6)\n",
    "##RandomForest\n",
    "#fpr7, tpr7, _ =  roc_curve(test_y, y_score7[:,1])\n",
    "#roc_auc7 = auc(fpr7, tpr7)\n",
    "#Bagging\n",
    "fpr8, tpr8, _ =  roc_curve(test_y, y_score8[:,1])\n",
    "roc_auc8 = auc(fpr8, tpr8)\n"
   ]
  },
  {
   "cell_type": "code",
   "execution_count": 73,
   "metadata": {},
   "outputs": [
    {
     "data": {
      "image/png": "[encoded data removed]",
      "text/plain": [
       "<matplotlib.figure.Figure at 0x108db1350>"
      ]
     },
     "metadata": {},
     "output_type": "display_data"
    }
   ],
   "source": [
    "#plt.plot(fpr,tpr, label='Bagging(2) (area = %0.2f)' % roc_auc)\n",
    "plt.plot(fpr1,tpr1, label='Decision Tree (area = %0.2f)' % roc_auc1)\n",
    "#plt.plot(fpr4,tpr4, label='ADAboost (area = %0.2f)' % roc_auc4)\n",
    "plt.plot(fpr5,tpr5, label='KNN neighbours (area = %0.2f)' % roc_auc5)\n",
    "plt.plot(fpr6,tpr6, label='Neural Networks (area = %0.2f)' % roc_auc6)\n",
    "#plt.plot(fpr7,tpr7, label='Random Forest (area = %0.2f)' % roc_auc7)\n",
    "plt.plot(fpr8,tpr8, label='Bagging (area = %0.2f)' % roc_auc8)\n",
    "\n",
    "plt.legend(loc=\"lower right\")\n",
    "plt.show()"
   ]
  },
  {
   "cell_type": "code",
   "execution_count": 74,
   "metadata": {},
   "outputs": [
    {
     "data": {
      "text/plain": [
       "[]"
      ]
     },
     "execution_count": 74,
     "metadata": {},
     "output_type": "execute_result"
    },
    {
     "data": {
      "image/png": "[encoded data removed]",
      "text/plain": [
       "<matplotlib.figure.Figure at 0x1a1a1c37d0>"
      ]
     },
     "metadata": {},
     "output_type": "display_data"
    }
   ],
   "source": [
    "#FITTING GRAPH\n",
    "\n",
    "roc_auc_i = []\n",
    "value_list = range(2,30)\n",
    "n_nodes = []\n",
    "\n",
    "# Fitting Graph  -- with ROC AUC as performance measure\n",
    "for i in value_list:\n",
    "    clf_i = tree.DecisionTreeClassifier(criterion='gini', splitter='best', max_depth=None, \n",
    "                                  min_samples_split=2, min_samples_leaf=  i  )\n",
    "    clf_i = clf_i.fit(train_x, train_y)\n",
    "    y_score_i = clf_i.predict_proba(test_x)\n",
    "    fpr_i, tpr_i, _ =  roc_curve(test_y, y_score_i[:,1])\n",
    "    roc_auc_i.append(auc(fpr_i, tpr_i))\n",
    "    n_nodes.append(clf_i.tree_.node_count)\n",
    "\n",
    "best_value = value_list[np.argmax(roc_auc_i)]\n",
    "best_roc = np.max(roc_auc_i)\n",
    "worst_roc = np.min(roc_auc_i)\n",
    "\n",
    "f, axarr = plt.subplots(2, sharex=True)\n",
    "axarr[0].plot(value_list, n_nodes, label=\"n nodes\")\n",
    "axarr[0].legend(loc=\"upper right\")\n",
    "axarr[1].plot(value_list, roc_auc_i, label=\"AUC (best min_n_leaves = %s)\" % best_value)\n",
    "axarr[1].plot([best_value, best_value], [worst_roc, best_roc + 0.01])\n",
    "axarr[1].legend(loc=\"best\")\n",
    "plt.plot()"
   ]
  },
  {
   "cell_type": "code",
   "execution_count": null,
   "metadata": {},
   "outputs": [],
   "source": []
  }
 ],
 "metadata": {
  "kernelspec": {
   "display_name": "Python 2",
   "language": "python",
   "name": "python2"
  },
  "language_info": {
   "codemirror_mode": {
    "name": "ipython",
    "version": 2
   },
   "file_extension": ".py",
   "mimetype": "text/x-python",
   "name": "python",
   "nbconvert_exporter": "python",
   "pygments_lexer": "ipython2",
   "version": "2.7.14"
  }
 },
 "nbformat": 4,
 "nbformat_minor": 2
}
