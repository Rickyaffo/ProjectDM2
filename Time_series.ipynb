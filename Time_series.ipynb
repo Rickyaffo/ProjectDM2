{
 "cells": [
  {
   "cell_type": "code",
   "execution_count": 1,
   "metadata": {},
   "outputs": [
    {
     "name": "stdout",
     "output_type": "stream",
     "text": [
      "Populating the interactive namespace from numpy and matplotlib\n"
     ]
    }
   ],
   "source": [
    "%pylab inline\n",
    "import pandas as pd\n",
    "from pandas import Series\n",
    "from matplotlib import pyplot\n",
    "from pandas import DataFrame\n",
    "from pandas import TimeGrouper\n",
    "from statsmodels.tsa.stattools import adfuller\n",
    "from pandas import concat\n",
    "from pandas.plotting import lag_plot\n",
    "from pandas.tools.plotting import autocorrelation_plot\n",
    "rcParams['figure.figsize'] = 15, 6"
   ]
  },
  {
   "cell_type": "code",
   "execution_count": 2,
   "metadata": {},
   "outputs": [
    {
     "name": "stdout",
     "output_type": "stream",
     "text": [
      " Volume in drive C is Windows8_OS\n",
      " Volume Serial Number is 52BF-C828\n",
      "\n",
      " Directory of C:\\Users\\Riccardo\n",
      "\n",
      "07/06/2018  11:43             2.182 AirPassengers.csv\n",
      "25/03/2018  19:37             4.771 file.csv\n",
      "25/03/2018  14:55           566.778 human_resources.csv\n",
      "14/04/2018  12:19           885.107 ibm_daily_1962-2018.csv\n",
      "09/06/2018  18:50            61.194 train.csv\n",
      "               5 File(s)      1.520.032 bytes\n",
      "               0 Dir(s)  364.967.530.496 bytes free\n"
     ]
    }
   ],
   "source": [
    "!dir *.csv"
   ]
  },
  {
   "cell_type": "code",
   "execution_count": 3,
   "metadata": {},
   "outputs": [],
   "source": [
    "dateparse = lambda dates: pd.datetime.strptime(dates, '%Y-%m-%d')"
   ]
  },
  {
   "cell_type": "code",
   "execution_count": 4,
   "metadata": {
    "scrolled": true
   },
   "outputs": [
    {
     "data": {
      "text/html": [
       "<div>\n",
       "<style scoped>\n",
       "    .dataframe tbody tr th:only-of-type {\n",
       "        vertical-align: middle;\n",
       "    }\n",
       "\n",
       "    .dataframe tbody tr th {\n",
       "        vertical-align: top;\n",
       "    }\n",
       "\n",
       "    .dataframe thead th {\n",
       "        text-align: right;\n",
       "    }\n",
       "</style>\n",
       "<table border=\"1\" class=\"dataframe\">\n",
       "  <thead>\n",
       "    <tr style=\"text-align: right;\">\n",
       "      <th></th>\n",
       "      <th>Open</th>\n",
       "      <th>High</th>\n",
       "      <th>Low</th>\n",
       "      <th>Close</th>\n",
       "      <th>Adj</th>\n",
       "      <th>Volume</th>\n",
       "    </tr>\n",
       "    <tr>\n",
       "      <th>Date</th>\n",
       "      <th></th>\n",
       "      <th></th>\n",
       "      <th></th>\n",
       "      <th></th>\n",
       "      <th></th>\n",
       "      <th></th>\n",
       "    </tr>\n",
       "  </thead>\n",
       "  <tbody>\n",
       "    <tr>\n",
       "      <th>1962-01-02</th>\n",
       "      <td>7.713333</td>\n",
       "      <td>7.713333</td>\n",
       "      <td>7.626667</td>\n",
       "      <td>7.626667</td>\n",
       "      <td>0.689273</td>\n",
       "      <td>387200</td>\n",
       "    </tr>\n",
       "    <tr>\n",
       "      <th>1962-01-03</th>\n",
       "      <td>7.626667</td>\n",
       "      <td>7.693333</td>\n",
       "      <td>7.626667</td>\n",
       "      <td>7.693333</td>\n",
       "      <td>0.695299</td>\n",
       "      <td>288000</td>\n",
       "    </tr>\n",
       "    <tr>\n",
       "      <th>1962-01-04</th>\n",
       "      <td>7.693333</td>\n",
       "      <td>7.693333</td>\n",
       "      <td>7.613333</td>\n",
       "      <td>7.616667</td>\n",
       "      <td>0.688370</td>\n",
       "      <td>256000</td>\n",
       "    </tr>\n",
       "    <tr>\n",
       "      <th>1962-01-05</th>\n",
       "      <td>7.606667</td>\n",
       "      <td>7.606667</td>\n",
       "      <td>7.453333</td>\n",
       "      <td>7.466667</td>\n",
       "      <td>0.674813</td>\n",
       "      <td>363200</td>\n",
       "    </tr>\n",
       "    <tr>\n",
       "      <th>1962-01-08</th>\n",
       "      <td>7.460000</td>\n",
       "      <td>7.460000</td>\n",
       "      <td>7.266667</td>\n",
       "      <td>7.326667</td>\n",
       "      <td>0.662160</td>\n",
       "      <td>544000</td>\n",
       "    </tr>\n",
       "  </tbody>\n",
       "</table>\n",
       "</div>"
      ],
      "text/plain": [
       "                Open      High       Low     Close       Adj  Volume\n",
       "Date                                                                \n",
       "1962-01-02  7.713333  7.713333  7.626667  7.626667  0.689273  387200\n",
       "1962-01-03  7.626667  7.693333  7.626667  7.693333  0.695299  288000\n",
       "1962-01-04  7.693333  7.693333  7.613333  7.616667  0.688370  256000\n",
       "1962-01-05  7.606667  7.606667  7.453333  7.466667  0.674813  363200\n",
       "1962-01-08  7.460000  7.460000  7.266667  7.326667  0.662160  544000"
      ]
     },
     "execution_count": 4,
     "metadata": {},
     "output_type": "execute_result"
    }
   ],
   "source": [
    "df =  pd.read_csv('ibm_daily_1962-2018.csv',parse_dates=True,index_col='Date',date_parser=dateparse,header = 0, sep=\"\\t\")\n",
    "df.head()"
   ]
  },
  {
   "cell_type": "code",
   "execution_count": 34,
   "metadata": {},
   "outputs": [
    {
     "data": {
      "text/plain": [
       "<matplotlib.axes._subplots.AxesSubplot at 0x1a1c85f1400>"
      ]
     },
     "execution_count": 34,
     "metadata": {},
     "output_type": "execute_result"
    },
    {
     "data": {
      "image/png": "[encoded data removed]",
      "text/plain": [
       "<Figure size 432x288 with 1 Axes>"
      ]
     },
     "metadata": {},
     "output_type": "display_data"
    }
   ],
   "source": [
    "cl.plot()"
   ]
  },
  {
   "cell_type": "code",
   "execution_count": 30,
   "metadata": {},
   "outputs": [
    {
     "data": {
      "text/html": [
       "<div>\n",
       "<style scoped>\n",
       "    .dataframe tbody tr th:only-of-type {\n",
       "        vertical-align: middle;\n",
       "    }\n",
       "\n",
       "    .dataframe tbody tr th {\n",
       "        vertical-align: top;\n",
       "    }\n",
       "\n",
       "    .dataframe thead th {\n",
       "        text-align: right;\n",
       "    }\n",
       "</style>\n",
       "<table border=\"1\" class=\"dataframe\">\n",
       "  <thead>\n",
       "    <tr style=\"text-align: right;\">\n",
       "      <th></th>\n",
       "      <th>Open</th>\n",
       "      <th>High</th>\n",
       "      <th>Low</th>\n",
       "      <th>Close</th>\n",
       "      <th>Adj</th>\n",
       "      <th>Volume</th>\n",
       "    </tr>\n",
       "    <tr>\n",
       "      <th>Date</th>\n",
       "      <th></th>\n",
       "      <th></th>\n",
       "      <th></th>\n",
       "      <th></th>\n",
       "      <th></th>\n",
       "      <th></th>\n",
       "    </tr>\n",
       "  </thead>\n",
       "  <tbody>\n",
       "    <tr>\n",
       "      <th>1962-01-02</th>\n",
       "      <td>7.713333</td>\n",
       "      <td>7.713333</td>\n",
       "      <td>7.626667</td>\n",
       "      <td>7.626667</td>\n",
       "      <td>0.689273</td>\n",
       "      <td>387200</td>\n",
       "    </tr>\n",
       "    <tr>\n",
       "      <th>1962-01-03</th>\n",
       "      <td>7.626667</td>\n",
       "      <td>7.693333</td>\n",
       "      <td>7.626667</td>\n",
       "      <td>7.693333</td>\n",
       "      <td>0.695299</td>\n",
       "      <td>288000</td>\n",
       "    </tr>\n",
       "    <tr>\n",
       "      <th>1962-01-04</th>\n",
       "      <td>7.693333</td>\n",
       "      <td>7.693333</td>\n",
       "      <td>7.613333</td>\n",
       "      <td>7.616667</td>\n",
       "      <td>0.688370</td>\n",
       "      <td>256000</td>\n",
       "    </tr>\n",
       "    <tr>\n",
       "      <th>1962-01-05</th>\n",
       "      <td>7.606667</td>\n",
       "      <td>7.606667</td>\n",
       "      <td>7.453333</td>\n",
       "      <td>7.466667</td>\n",
       "      <td>0.674813</td>\n",
       "      <td>363200</td>\n",
       "    </tr>\n",
       "    <tr>\n",
       "      <th>1962-01-08</th>\n",
       "      <td>7.460000</td>\n",
       "      <td>7.460000</td>\n",
       "      <td>7.266667</td>\n",
       "      <td>7.326667</td>\n",
       "      <td>0.662160</td>\n",
       "      <td>544000</td>\n",
       "    </tr>\n",
       "    <tr>\n",
       "      <th>1963-01-02</th>\n",
       "      <td>5.200000</td>\n",
       "      <td>5.200000</td>\n",
       "      <td>5.123333</td>\n",
       "      <td>5.130000</td>\n",
       "      <td>0.463958</td>\n",
       "      <td>2387200</td>\n",
       "    </tr>\n",
       "    <tr>\n",
       "      <th>1963-01-03</th>\n",
       "      <td>5.140000</td>\n",
       "      <td>5.286667</td>\n",
       "      <td>5.140000</td>\n",
       "      <td>5.286667</td>\n",
       "      <td>0.478127</td>\n",
       "      <td>1120000</td>\n",
       "    </tr>\n",
       "    <tr>\n",
       "      <th>1963-01-04</th>\n",
       "      <td>5.293334</td>\n",
       "      <td>5.343333</td>\n",
       "      <td>5.293334</td>\n",
       "      <td>5.293334</td>\n",
       "      <td>0.478730</td>\n",
       "      <td>1536000</td>\n",
       "    </tr>\n",
       "    <tr>\n",
       "      <th>1963-01-07</th>\n",
       "      <td>5.293334</td>\n",
       "      <td>5.343333</td>\n",
       "      <td>5.240000</td>\n",
       "      <td>5.250000</td>\n",
       "      <td>0.474811</td>\n",
       "      <td>880000</td>\n",
       "    </tr>\n",
       "    <tr>\n",
       "      <th>1963-01-08</th>\n",
       "      <td>5.293334</td>\n",
       "      <td>5.380000</td>\n",
       "      <td>5.293334</td>\n",
       "      <td>5.380000</td>\n",
       "      <td>0.486568</td>\n",
       "      <td>1803200</td>\n",
       "    </tr>\n",
       "    <tr>\n",
       "      <th>1964-01-02</th>\n",
       "      <td>6.800000</td>\n",
       "      <td>6.920000</td>\n",
       "      <td>6.800000</td>\n",
       "      <td>6.893333</td>\n",
       "      <td>0.624020</td>\n",
       "      <td>1216000</td>\n",
       "    </tr>\n",
       "    <tr>\n",
       "      <th>1964-01-03</th>\n",
       "      <td>6.893333</td>\n",
       "      <td>6.946667</td>\n",
       "      <td>6.800000</td>\n",
       "      <td>6.800000</td>\n",
       "      <td>0.615571</td>\n",
       "      <td>1048000</td>\n",
       "    </tr>\n",
       "    <tr>\n",
       "      <th>1964-01-06</th>\n",
       "      <td>6.816667</td>\n",
       "      <td>6.913333</td>\n",
       "      <td>6.816667</td>\n",
       "      <td>6.820000</td>\n",
       "      <td>0.617381</td>\n",
       "      <td>699200</td>\n",
       "    </tr>\n",
       "    <tr>\n",
       "      <th>1964-01-07</th>\n",
       "      <td>6.820000</td>\n",
       "      <td>6.886667</td>\n",
       "      <td>6.766667</td>\n",
       "      <td>6.773334</td>\n",
       "      <td>0.613156</td>\n",
       "      <td>587200</td>\n",
       "    </tr>\n",
       "    <tr>\n",
       "      <th>1964-01-08</th>\n",
       "      <td>6.773334</td>\n",
       "      <td>6.880000</td>\n",
       "      <td>6.773334</td>\n",
       "      <td>6.840000</td>\n",
       "      <td>0.619192</td>\n",
       "      <td>675200</td>\n",
       "    </tr>\n",
       "    <tr>\n",
       "      <th>1965-01-04</th>\n",
       "      <td>6.825000</td>\n",
       "      <td>6.841667</td>\n",
       "      <td>6.750000</td>\n",
       "      <td>6.752083</td>\n",
       "      <td>0.611878</td>\n",
       "      <td>507200</td>\n",
       "    </tr>\n",
       "    <tr>\n",
       "      <th>1965-01-05</th>\n",
       "      <td>6.752083</td>\n",
       "      <td>6.766667</td>\n",
       "      <td>6.733333</td>\n",
       "      <td>6.735417</td>\n",
       "      <td>0.610368</td>\n",
       "      <td>496000</td>\n",
       "    </tr>\n",
       "    <tr>\n",
       "      <th>1965-01-06</th>\n",
       "      <td>6.766667</td>\n",
       "      <td>6.858333</td>\n",
       "      <td>6.766667</td>\n",
       "      <td>6.812500</td>\n",
       "      <td>0.617353</td>\n",
       "      <td>971200</td>\n",
       "    </tr>\n",
       "    <tr>\n",
       "      <th>1965-01-07</th>\n",
       "      <td>6.841667</td>\n",
       "      <td>6.962500</td>\n",
       "      <td>6.841667</td>\n",
       "      <td>6.962500</td>\n",
       "      <td>0.630946</td>\n",
       "      <td>579200</td>\n",
       "    </tr>\n",
       "    <tr>\n",
       "      <th>1965-01-08</th>\n",
       "      <td>6.975000</td>\n",
       "      <td>7.083333</td>\n",
       "      <td>6.975000</td>\n",
       "      <td>7.083333</td>\n",
       "      <td>0.641896</td>\n",
       "      <td>731200</td>\n",
       "    </tr>\n",
       "    <tr>\n",
       "      <th>1966-01-03</th>\n",
       "      <td>8.291667</td>\n",
       "      <td>8.291667</td>\n",
       "      <td>8.204166</td>\n",
       "      <td>8.225000</td>\n",
       "      <td>0.746282</td>\n",
       "      <td>264000</td>\n",
       "    </tr>\n",
       "    <tr>\n",
       "      <th>1966-01-04</th>\n",
       "      <td>8.225000</td>\n",
       "      <td>8.283334</td>\n",
       "      <td>8.200000</td>\n",
       "      <td>8.200000</td>\n",
       "      <td>0.744014</td>\n",
       "      <td>400000</td>\n",
       "    </tr>\n",
       "    <tr>\n",
       "      <th>1966-01-05</th>\n",
       "      <td>8.216666</td>\n",
       "      <td>8.300000</td>\n",
       "      <td>8.216666</td>\n",
       "      <td>8.254167</td>\n",
       "      <td>0.748928</td>\n",
       "      <td>432000</td>\n",
       "    </tr>\n",
       "    <tr>\n",
       "      <th>1966-01-06</th>\n",
       "      <td>8.258333</td>\n",
       "      <td>8.316667</td>\n",
       "      <td>8.258333</td>\n",
       "      <td>8.300000</td>\n",
       "      <td>0.753087</td>\n",
       "      <td>304000</td>\n",
       "    </tr>\n",
       "    <tr>\n",
       "      <th>1966-01-07</th>\n",
       "      <td>8.300000</td>\n",
       "      <td>8.333333</td>\n",
       "      <td>8.258333</td>\n",
       "      <td>8.295834</td>\n",
       "      <td>0.752709</td>\n",
       "      <td>384000</td>\n",
       "    </tr>\n",
       "    <tr>\n",
       "      <th>1967-01-03</th>\n",
       "      <td>9.287500</td>\n",
       "      <td>9.375000</td>\n",
       "      <td>9.225000</td>\n",
       "      <td>9.225000</td>\n",
       "      <td>0.838052</td>\n",
       "      <td>227200</td>\n",
       "    </tr>\n",
       "    <tr>\n",
       "      <th>1967-01-04</th>\n",
       "      <td>9.225000</td>\n",
       "      <td>9.237500</td>\n",
       "      <td>9.062500</td>\n",
       "      <td>9.125000</td>\n",
       "      <td>0.828967</td>\n",
       "      <td>507200</td>\n",
       "    </tr>\n",
       "    <tr>\n",
       "      <th>1967-01-05</th>\n",
       "      <td>9.125000</td>\n",
       "      <td>9.212500</td>\n",
       "      <td>9.125000</td>\n",
       "      <td>9.212500</td>\n",
       "      <td>0.836917</td>\n",
       "      <td>312000</td>\n",
       "    </tr>\n",
       "    <tr>\n",
       "      <th>1967-01-06</th>\n",
       "      <td>9.250000</td>\n",
       "      <td>9.462500</td>\n",
       "      <td>9.250000</td>\n",
       "      <td>9.450000</td>\n",
       "      <td>0.858492</td>\n",
       "      <td>504000</td>\n",
       "    </tr>\n",
       "    <tr>\n",
       "      <th>1967-01-09</th>\n",
       "      <td>9.475000</td>\n",
       "      <td>9.650000</td>\n",
       "      <td>9.475000</td>\n",
       "      <td>9.650000</td>\n",
       "      <td>0.876662</td>\n",
       "      <td>400000</td>\n",
       "    </tr>\n",
       "    <tr>\n",
       "      <th>...</th>\n",
       "      <td>...</td>\n",
       "      <td>...</td>\n",
       "      <td>...</td>\n",
       "      <td>...</td>\n",
       "      <td>...</td>\n",
       "      <td>...</td>\n",
       "    </tr>\n",
       "    <tr>\n",
       "      <th>2013-01-02</th>\n",
       "      <td>194.089996</td>\n",
       "      <td>196.350006</td>\n",
       "      <td>193.800003</td>\n",
       "      <td>196.350006</td>\n",
       "      <td>167.219650</td>\n",
       "      <td>4234100</td>\n",
       "    </tr>\n",
       "    <tr>\n",
       "      <th>2013-01-03</th>\n",
       "      <td>195.669998</td>\n",
       "      <td>196.289993</td>\n",
       "      <td>194.440002</td>\n",
       "      <td>195.270004</td>\n",
       "      <td>166.299881</td>\n",
       "      <td>3644700</td>\n",
       "    </tr>\n",
       "    <tr>\n",
       "      <th>2013-01-04</th>\n",
       "      <td>194.190002</td>\n",
       "      <td>194.460007</td>\n",
       "      <td>192.779999</td>\n",
       "      <td>193.990005</td>\n",
       "      <td>165.209778</td>\n",
       "      <td>3380200</td>\n",
       "    </tr>\n",
       "    <tr>\n",
       "      <th>2013-01-07</th>\n",
       "      <td>193.399994</td>\n",
       "      <td>193.779999</td>\n",
       "      <td>192.339996</td>\n",
       "      <td>193.139999</td>\n",
       "      <td>164.485886</td>\n",
       "      <td>2862300</td>\n",
       "    </tr>\n",
       "    <tr>\n",
       "      <th>2013-01-08</th>\n",
       "      <td>192.919998</td>\n",
       "      <td>193.300003</td>\n",
       "      <td>191.600006</td>\n",
       "      <td>192.869995</td>\n",
       "      <td>164.255905</td>\n",
       "      <td>3026900</td>\n",
       "    </tr>\n",
       "    <tr>\n",
       "      <th>2014-01-02</th>\n",
       "      <td>187.210007</td>\n",
       "      <td>187.399994</td>\n",
       "      <td>185.199997</td>\n",
       "      <td>185.529999</td>\n",
       "      <td>161.070999</td>\n",
       "      <td>4546500</td>\n",
       "    </tr>\n",
       "    <tr>\n",
       "      <th>2014-01-03</th>\n",
       "      <td>185.830002</td>\n",
       "      <td>187.350006</td>\n",
       "      <td>185.300003</td>\n",
       "      <td>186.639999</td>\n",
       "      <td>162.034576</td>\n",
       "      <td>4063200</td>\n",
       "    </tr>\n",
       "    <tr>\n",
       "      <th>2014-01-06</th>\n",
       "      <td>187.149994</td>\n",
       "      <td>187.360001</td>\n",
       "      <td>185.300003</td>\n",
       "      <td>186.000000</td>\n",
       "      <td>161.478973</td>\n",
       "      <td>4067800</td>\n",
       "    </tr>\n",
       "    <tr>\n",
       "      <th>2014-01-07</th>\n",
       "      <td>186.389999</td>\n",
       "      <td>190.350006</td>\n",
       "      <td>186.380005</td>\n",
       "      <td>189.710007</td>\n",
       "      <td>164.699875</td>\n",
       "      <td>5932300</td>\n",
       "    </tr>\n",
       "    <tr>\n",
       "      <th>2014-01-08</th>\n",
       "      <td>189.330002</td>\n",
       "      <td>189.419998</td>\n",
       "      <td>187.259995</td>\n",
       "      <td>187.970001</td>\n",
       "      <td>163.189240</td>\n",
       "      <td>4603700</td>\n",
       "    </tr>\n",
       "    <tr>\n",
       "      <th>2015-01-02</th>\n",
       "      <td>161.309998</td>\n",
       "      <td>163.309998</td>\n",
       "      <td>161.000000</td>\n",
       "      <td>162.059998</td>\n",
       "      <td>144.111176</td>\n",
       "      <td>5525500</td>\n",
       "    </tr>\n",
       "    <tr>\n",
       "      <th>2015-01-05</th>\n",
       "      <td>161.270004</td>\n",
       "      <td>161.270004</td>\n",
       "      <td>159.190002</td>\n",
       "      <td>159.509995</td>\n",
       "      <td>141.843597</td>\n",
       "      <td>4880400</td>\n",
       "    </tr>\n",
       "    <tr>\n",
       "      <th>2015-01-06</th>\n",
       "      <td>159.669998</td>\n",
       "      <td>159.960007</td>\n",
       "      <td>155.169998</td>\n",
       "      <td>156.070007</td>\n",
       "      <td>138.784607</td>\n",
       "      <td>6146700</td>\n",
       "    </tr>\n",
       "    <tr>\n",
       "      <th>2015-01-07</th>\n",
       "      <td>157.199997</td>\n",
       "      <td>157.199997</td>\n",
       "      <td>154.029999</td>\n",
       "      <td>155.050003</td>\n",
       "      <td>137.877548</td>\n",
       "      <td>4701800</td>\n",
       "    </tr>\n",
       "    <tr>\n",
       "      <th>2015-01-08</th>\n",
       "      <td>156.240005</td>\n",
       "      <td>159.039993</td>\n",
       "      <td>155.550003</td>\n",
       "      <td>158.419998</td>\n",
       "      <td>140.874313</td>\n",
       "      <td>4236800</td>\n",
       "    </tr>\n",
       "    <tr>\n",
       "      <th>2016-01-04</th>\n",
       "      <td>135.600006</td>\n",
       "      <td>135.970001</td>\n",
       "      <td>134.240005</td>\n",
       "      <td>135.949997</td>\n",
       "      <td>124.840744</td>\n",
       "      <td>5229400</td>\n",
       "    </tr>\n",
       "    <tr>\n",
       "      <th>2016-01-05</th>\n",
       "      <td>136.759995</td>\n",
       "      <td>136.889999</td>\n",
       "      <td>134.850006</td>\n",
       "      <td>135.850006</td>\n",
       "      <td>124.748917</td>\n",
       "      <td>3924800</td>\n",
       "    </tr>\n",
       "    <tr>\n",
       "      <th>2016-01-06</th>\n",
       "      <td>134.380005</td>\n",
       "      <td>135.580002</td>\n",
       "      <td>133.619995</td>\n",
       "      <td>135.169998</td>\n",
       "      <td>124.124474</td>\n",
       "      <td>4310900</td>\n",
       "    </tr>\n",
       "    <tr>\n",
       "      <th>2016-01-07</th>\n",
       "      <td>133.699997</td>\n",
       "      <td>135.020004</td>\n",
       "      <td>132.429993</td>\n",
       "      <td>132.860001</td>\n",
       "      <td>122.003242</td>\n",
       "      <td>7025800</td>\n",
       "    </tr>\n",
       "    <tr>\n",
       "      <th>2016-01-08</th>\n",
       "      <td>133.179993</td>\n",
       "      <td>133.820007</td>\n",
       "      <td>131.320007</td>\n",
       "      <td>131.630005</td>\n",
       "      <td>120.873756</td>\n",
       "      <td>4762700</td>\n",
       "    </tr>\n",
       "    <tr>\n",
       "      <th>2017-01-03</th>\n",
       "      <td>167.000000</td>\n",
       "      <td>167.869995</td>\n",
       "      <td>166.009995</td>\n",
       "      <td>167.190002</td>\n",
       "      <td>159.378235</td>\n",
       "      <td>2934300</td>\n",
       "    </tr>\n",
       "    <tr>\n",
       "      <th>2017-01-04</th>\n",
       "      <td>167.770004</td>\n",
       "      <td>169.869995</td>\n",
       "      <td>167.360001</td>\n",
       "      <td>169.259995</td>\n",
       "      <td>161.351501</td>\n",
       "      <td>3381400</td>\n",
       "    </tr>\n",
       "    <tr>\n",
       "      <th>2017-01-05</th>\n",
       "      <td>169.250000</td>\n",
       "      <td>169.389999</td>\n",
       "      <td>167.259995</td>\n",
       "      <td>168.699997</td>\n",
       "      <td>160.817673</td>\n",
       "      <td>2682300</td>\n",
       "    </tr>\n",
       "    <tr>\n",
       "      <th>2017-01-06</th>\n",
       "      <td>168.690002</td>\n",
       "      <td>169.919998</td>\n",
       "      <td>167.520004</td>\n",
       "      <td>169.529999</td>\n",
       "      <td>161.608887</td>\n",
       "      <td>2945500</td>\n",
       "    </tr>\n",
       "    <tr>\n",
       "      <th>2017-01-09</th>\n",
       "      <td>169.470001</td>\n",
       "      <td>169.800003</td>\n",
       "      <td>167.619995</td>\n",
       "      <td>167.649994</td>\n",
       "      <td>159.816727</td>\n",
       "      <td>3184700</td>\n",
       "    </tr>\n",
       "    <tr>\n",
       "      <th>2018-01-02</th>\n",
       "      <td>154.500000</td>\n",
       "      <td>154.809998</td>\n",
       "      <td>153.539993</td>\n",
       "      <td>154.250000</td>\n",
       "      <td>152.746094</td>\n",
       "      <td>4202500</td>\n",
       "    </tr>\n",
       "    <tr>\n",
       "      <th>2018-01-03</th>\n",
       "      <td>157.339996</td>\n",
       "      <td>159.809998</td>\n",
       "      <td>156.330002</td>\n",
       "      <td>158.490005</td>\n",
       "      <td>156.944763</td>\n",
       "      <td>9441600</td>\n",
       "    </tr>\n",
       "    <tr>\n",
       "      <th>2018-01-04</th>\n",
       "      <td>159.649994</td>\n",
       "      <td>162.320007</td>\n",
       "      <td>159.369995</td>\n",
       "      <td>161.699997</td>\n",
       "      <td>160.123459</td>\n",
       "      <td>7556200</td>\n",
       "    </tr>\n",
       "    <tr>\n",
       "      <th>2018-01-05</th>\n",
       "      <td>162.440002</td>\n",
       "      <td>162.899994</td>\n",
       "      <td>161.100006</td>\n",
       "      <td>162.490005</td>\n",
       "      <td>160.905762</td>\n",
       "      <td>5195800</td>\n",
       "    </tr>\n",
       "    <tr>\n",
       "      <th>2018-01-08</th>\n",
       "      <td>162.660004</td>\n",
       "      <td>163.910004</td>\n",
       "      <td>161.699997</td>\n",
       "      <td>163.470001</td>\n",
       "      <td>161.876205</td>\n",
       "      <td>5237500</td>\n",
       "    </tr>\n",
       "  </tbody>\n",
       "</table>\n",
       "<p>285 rows × 6 columns</p>\n",
       "</div>"
      ],
      "text/plain": [
       "                  Open        High         Low       Close         Adj  \\\n",
       "Date                                                                     \n",
       "1962-01-02    7.713333    7.713333    7.626667    7.626667    0.689273   \n",
       "1962-01-03    7.626667    7.693333    7.626667    7.693333    0.695299   \n",
       "1962-01-04    7.693333    7.693333    7.613333    7.616667    0.688370   \n",
       "1962-01-05    7.606667    7.606667    7.453333    7.466667    0.674813   \n",
       "1962-01-08    7.460000    7.460000    7.266667    7.326667    0.662160   \n",
       "1963-01-02    5.200000    5.200000    5.123333    5.130000    0.463958   \n",
       "1963-01-03    5.140000    5.286667    5.140000    5.286667    0.478127   \n",
       "1963-01-04    5.293334    5.343333    5.293334    5.293334    0.478730   \n",
       "1963-01-07    5.293334    5.343333    5.240000    5.250000    0.474811   \n",
       "1963-01-08    5.293334    5.380000    5.293334    5.380000    0.486568   \n",
       "1964-01-02    6.800000    6.920000    6.800000    6.893333    0.624020   \n",
       "1964-01-03    6.893333    6.946667    6.800000    6.800000    0.615571   \n",
       "1964-01-06    6.816667    6.913333    6.816667    6.820000    0.617381   \n",
       "1964-01-07    6.820000    6.886667    6.766667    6.773334    0.613156   \n",
       "1964-01-08    6.773334    6.880000    6.773334    6.840000    0.619192   \n",
       "1965-01-04    6.825000    6.841667    6.750000    6.752083    0.611878   \n",
       "1965-01-05    6.752083    6.766667    6.733333    6.735417    0.610368   \n",
       "1965-01-06    6.766667    6.858333    6.766667    6.812500    0.617353   \n",
       "1965-01-07    6.841667    6.962500    6.841667    6.962500    0.630946   \n",
       "1965-01-08    6.975000    7.083333    6.975000    7.083333    0.641896   \n",
       "1966-01-03    8.291667    8.291667    8.204166    8.225000    0.746282   \n",
       "1966-01-04    8.225000    8.283334    8.200000    8.200000    0.744014   \n",
       "1966-01-05    8.216666    8.300000    8.216666    8.254167    0.748928   \n",
       "1966-01-06    8.258333    8.316667    8.258333    8.300000    0.753087   \n",
       "1966-01-07    8.300000    8.333333    8.258333    8.295834    0.752709   \n",
       "1967-01-03    9.287500    9.375000    9.225000    9.225000    0.838052   \n",
       "1967-01-04    9.225000    9.237500    9.062500    9.125000    0.828967   \n",
       "1967-01-05    9.125000    9.212500    9.125000    9.212500    0.836917   \n",
       "1967-01-06    9.250000    9.462500    9.250000    9.450000    0.858492   \n",
       "1967-01-09    9.475000    9.650000    9.475000    9.650000    0.876662   \n",
       "...                ...         ...         ...         ...         ...   \n",
       "2013-01-02  194.089996  196.350006  193.800003  196.350006  167.219650   \n",
       "2013-01-03  195.669998  196.289993  194.440002  195.270004  166.299881   \n",
       "2013-01-04  194.190002  194.460007  192.779999  193.990005  165.209778   \n",
       "2013-01-07  193.399994  193.779999  192.339996  193.139999  164.485886   \n",
       "2013-01-08  192.919998  193.300003  191.600006  192.869995  164.255905   \n",
       "2014-01-02  187.210007  187.399994  185.199997  185.529999  161.070999   \n",
       "2014-01-03  185.830002  187.350006  185.300003  186.639999  162.034576   \n",
       "2014-01-06  187.149994  187.360001  185.300003  186.000000  161.478973   \n",
       "2014-01-07  186.389999  190.350006  186.380005  189.710007  164.699875   \n",
       "2014-01-08  189.330002  189.419998  187.259995  187.970001  163.189240   \n",
       "2015-01-02  161.309998  163.309998  161.000000  162.059998  144.111176   \n",
       "2015-01-05  161.270004  161.270004  159.190002  159.509995  141.843597   \n",
       "2015-01-06  159.669998  159.960007  155.169998  156.070007  138.784607   \n",
       "2015-01-07  157.199997  157.199997  154.029999  155.050003  137.877548   \n",
       "2015-01-08  156.240005  159.039993  155.550003  158.419998  140.874313   \n",
       "2016-01-04  135.600006  135.970001  134.240005  135.949997  124.840744   \n",
       "2016-01-05  136.759995  136.889999  134.850006  135.850006  124.748917   \n",
       "2016-01-06  134.380005  135.580002  133.619995  135.169998  124.124474   \n",
       "2016-01-07  133.699997  135.020004  132.429993  132.860001  122.003242   \n",
       "2016-01-08  133.179993  133.820007  131.320007  131.630005  120.873756   \n",
       "2017-01-03  167.000000  167.869995  166.009995  167.190002  159.378235   \n",
       "2017-01-04  167.770004  169.869995  167.360001  169.259995  161.351501   \n",
       "2017-01-05  169.250000  169.389999  167.259995  168.699997  160.817673   \n",
       "2017-01-06  168.690002  169.919998  167.520004  169.529999  161.608887   \n",
       "2017-01-09  169.470001  169.800003  167.619995  167.649994  159.816727   \n",
       "2018-01-02  154.500000  154.809998  153.539993  154.250000  152.746094   \n",
       "2018-01-03  157.339996  159.809998  156.330002  158.490005  156.944763   \n",
       "2018-01-04  159.649994  162.320007  159.369995  161.699997  160.123459   \n",
       "2018-01-05  162.440002  162.899994  161.100006  162.490005  160.905762   \n",
       "2018-01-08  162.660004  163.910004  161.699997  163.470001  161.876205   \n",
       "\n",
       "             Volume  \n",
       "Date                 \n",
       "1962-01-02   387200  \n",
       "1962-01-03   288000  \n",
       "1962-01-04   256000  \n",
       "1962-01-05   363200  \n",
       "1962-01-08   544000  \n",
       "1963-01-02  2387200  \n",
       "1963-01-03  1120000  \n",
       "1963-01-04  1536000  \n",
       "1963-01-07   880000  \n",
       "1963-01-08  1803200  \n",
       "1964-01-02  1216000  \n",
       "1964-01-03  1048000  \n",
       "1964-01-06   699200  \n",
       "1964-01-07   587200  \n",
       "1964-01-08   675200  \n",
       "1965-01-04   507200  \n",
       "1965-01-05   496000  \n",
       "1965-01-06   971200  \n",
       "1965-01-07   579200  \n",
       "1965-01-08   731200  \n",
       "1966-01-03   264000  \n",
       "1966-01-04   400000  \n",
       "1966-01-05   432000  \n",
       "1966-01-06   304000  \n",
       "1966-01-07   384000  \n",
       "1967-01-03   227200  \n",
       "1967-01-04   507200  \n",
       "1967-01-05   312000  \n",
       "1967-01-06   504000  \n",
       "1967-01-09   400000  \n",
       "...             ...  \n",
       "2013-01-02  4234100  \n",
       "2013-01-03  3644700  \n",
       "2013-01-04  3380200  \n",
       "2013-01-07  2862300  \n",
       "2013-01-08  3026900  \n",
       "2014-01-02  4546500  \n",
       "2014-01-03  4063200  \n",
       "2014-01-06  4067800  \n",
       "2014-01-07  5932300  \n",
       "2014-01-08  4603700  \n",
       "2015-01-02  5525500  \n",
       "2015-01-05  4880400  \n",
       "2015-01-06  6146700  \n",
       "2015-01-07  4701800  \n",
       "2015-01-08  4236800  \n",
       "2016-01-04  5229400  \n",
       "2016-01-05  3924800  \n",
       "2016-01-06  4310900  \n",
       "2016-01-07  7025800  \n",
       "2016-01-08  4762700  \n",
       "2017-01-03  2934300  \n",
       "2017-01-04  3381400  \n",
       "2017-01-05  2682300  \n",
       "2017-01-06  2945500  \n",
       "2017-01-09  3184700  \n",
       "2018-01-02  4202500  \n",
       "2018-01-03  9441600  \n",
       "2018-01-04  7556200  \n",
       "2018-01-05  5195800  \n",
       "2018-01-08  5237500  \n",
       "\n",
       "[285 rows x 6 columns]"
      ]
     },
     "execution_count": 30,
     "metadata": {},
     "output_type": "execute_result"
    }
   ],
   "source": [
    "groups.head()"
   ]
  },
  {
   "cell_type": "code",
   "execution_count": 7,
   "metadata": {},
   "outputs": [
    {
     "data": {
      "text/html": [
       "<div>\n",
       "<style scoped>\n",
       "    .dataframe tbody tr th:only-of-type {\n",
       "        vertical-align: middle;\n",
       "    }\n",
       "\n",
       "    .dataframe tbody tr th {\n",
       "        vertical-align: top;\n",
       "    }\n",
       "\n",
       "    .dataframe thead th {\n",
       "        text-align: right;\n",
       "    }\n",
       "</style>\n",
       "<table border=\"1\" class=\"dataframe\">\n",
       "  <thead>\n",
       "    <tr style=\"text-align: right;\">\n",
       "      <th></th>\n",
       "      <th>Open</th>\n",
       "      <th>High</th>\n",
       "      <th>Low</th>\n",
       "      <th>Close</th>\n",
       "      <th>Adj</th>\n",
       "      <th>Volume</th>\n",
       "    </tr>\n",
       "  </thead>\n",
       "  <tbody>\n",
       "    <tr>\n",
       "      <th>count</th>\n",
       "      <td>14168.000000</td>\n",
       "      <td>14168.000000</td>\n",
       "      <td>14168.000000</td>\n",
       "      <td>14168.000000</td>\n",
       "      <td>14168.000000</td>\n",
       "      <td>1.416800e+04</td>\n",
       "    </tr>\n",
       "    <tr>\n",
       "      <th>mean</th>\n",
       "      <td>57.438904</td>\n",
       "      <td>57.976158</td>\n",
       "      <td>56.934359</td>\n",
       "      <td>57.459656</td>\n",
       "      <td>40.174300</td>\n",
       "      <td>4.867323e+06</td>\n",
       "    </tr>\n",
       "    <tr>\n",
       "      <th>std</th>\n",
       "      <td>56.427873</td>\n",
       "      <td>56.889503</td>\n",
       "      <td>56.005953</td>\n",
       "      <td>56.457842</td>\n",
       "      <td>53.133012</td>\n",
       "      <td>4.529909e+06</td>\n",
       "    </tr>\n",
       "    <tr>\n",
       "      <th>min</th>\n",
       "      <td>4.080000</td>\n",
       "      <td>4.286667</td>\n",
       "      <td>4.000000</td>\n",
       "      <td>4.080000</td>\n",
       "      <td>0.368845</td>\n",
       "      <td>0.000000e+00</td>\n",
       "    </tr>\n",
       "    <tr>\n",
       "      <th>25%</th>\n",
       "      <td>15.967187</td>\n",
       "      <td>16.093750</td>\n",
       "      <td>15.843750</td>\n",
       "      <td>15.953125</td>\n",
       "      <td>1.808643</td>\n",
       "      <td>1.240000e+06</td>\n",
       "    </tr>\n",
       "    <tr>\n",
       "      <th>50%</th>\n",
       "      <td>27.843750</td>\n",
       "      <td>28.125000</td>\n",
       "      <td>27.625000</td>\n",
       "      <td>27.875000</td>\n",
       "      <td>7.404912</td>\n",
       "      <td>4.123400e+06</td>\n",
       "    </tr>\n",
       "    <tr>\n",
       "      <th>75%</th>\n",
       "      <td>93.757500</td>\n",
       "      <td>94.739998</td>\n",
       "      <td>92.757500</td>\n",
       "      <td>93.699997</td>\n",
       "      <td>70.678108</td>\n",
       "      <td>6.888075e+06</td>\n",
       "    </tr>\n",
       "    <tr>\n",
       "      <th>max</th>\n",
       "      <td>215.380005</td>\n",
       "      <td>215.899994</td>\n",
       "      <td>214.300003</td>\n",
       "      <td>215.800003</td>\n",
       "      <td>184.557632</td>\n",
       "      <td>6.944470e+07</td>\n",
       "    </tr>\n",
       "  </tbody>\n",
       "</table>\n",
       "</div>"
      ],
      "text/plain": [
       "               Open          High           Low         Close           Adj  \\\n",
       "count  14168.000000  14168.000000  14168.000000  14168.000000  14168.000000   \n",
       "mean      57.438904     57.976158     56.934359     57.459656     40.174300   \n",
       "std       56.427873     56.889503     56.005953     56.457842     53.133012   \n",
       "min        4.080000      4.286667      4.000000      4.080000      0.368845   \n",
       "25%       15.967187     16.093750     15.843750     15.953125      1.808643   \n",
       "50%       27.843750     28.125000     27.625000     27.875000      7.404912   \n",
       "75%       93.757500     94.739998     92.757500     93.699997     70.678108   \n",
       "max      215.380005    215.899994    214.300003    215.800003    184.557632   \n",
       "\n",
       "             Volume  \n",
       "count  1.416800e+04  \n",
       "mean   4.867323e+06  \n",
       "std    4.529909e+06  \n",
       "min    0.000000e+00  \n",
       "25%    1.240000e+06  \n",
       "50%    4.123400e+06  \n",
       "75%    6.888075e+06  \n",
       "max    6.944470e+07  "
      ]
     },
     "execution_count": 7,
     "metadata": {},
     "output_type": "execute_result"
    }
   ],
   "source": [
    "df.describe()"
   ]
  },
  {
   "cell_type": "code",
   "execution_count": 8,
   "metadata": {},
   "outputs": [
    {
     "data": {
      "text/plain": [
       "Date\n",
       "1962-01-02    7.626667\n",
       "1962-01-03    7.693333\n",
       "1962-01-04    7.616667\n",
       "1962-01-05    7.466667\n",
       "1962-01-08    7.326667\n",
       "Name: Close, dtype: float64"
      ]
     },
     "execution_count": 8,
     "metadata": {},
     "output_type": "execute_result"
    }
   ],
   "source": [
    "cl = df['Close']\n",
    "cl.head()"
   ]
  },
  {
   "cell_type": "code",
   "execution_count": 9,
   "metadata": {},
   "outputs": [
    {
     "data": {
      "text/plain": [
       "[<matplotlib.lines.Line2D at 0x1a1c67a0438>]"
      ]
     },
     "execution_count": 9,
     "metadata": {},
     "output_type": "execute_result"
    },
    {
     "data": {
      "image/png": "[encoded data removed]",
      "text/plain": [
       "<Figure size 432x288 with 1 Axes>"
      ]
     },
     "metadata": {},
     "output_type": "display_data"
    }
   ],
   "source": [
    "fig = plt.figure()\n",
    "ax1 = fig.add_subplot(111)\n",
    "ax1.set_xlabel('Year')\n",
    "ax1.set_ylabel('Closed')\n",
    "ax1.set_title('IBMDealPlot')\n",
    "ax1.plot(cl)"
   ]
  },
  {
   "cell_type": "code",
   "execution_count": 10,
   "metadata": {
    "scrolled": true
   },
   "outputs": [
    {
     "data": {
      "image/png": "[encoded data removed]",
      "text/plain": [
       "<Figure size 432x288 with 1 Axes>"
      ]
     },
     "metadata": {},
     "output_type": "display_data"
    }
   ],
   "source": [
    "cl.plot(alpha=0.5, style='-')\n",
    "cl.resample('BA').mean().plot(style=':')\n",
    "cl.asfreq('BA').plot(style='--');\n",
    "plt.legend(['input', 'resample', 'asfreq'],\n",
    "           loc='upper left');\n",
    "# The primary difference between the two is that resample() is fundamentally a data aggregation, while asfreq() is fundamentally a data selection."
   ]
  },
  {
   "cell_type": "markdown",
   "metadata": {},
   "source": [
    "### Transformation I: Offset Translation\n",
    "Subtract from each sample the mean value of the series"
   ]
  },
  {
   "cell_type": "code",
   "execution_count": 11,
   "metadata": {
    "scrolled": true
   },
   "outputs": [
    {
     "data": {
      "text/plain": [
       "[<matplotlib.lines.Line2D at 0x1a1c6a47588>]"
      ]
     },
     "execution_count": 11,
     "metadata": {},
     "output_type": "execute_result"
    },
    {
     "data": {
      "image/png": "[encoded data removed]",
      "text/plain": [
       "<Figure size 432x288 with 1 Axes>"
      ]
     },
     "metadata": {},
     "output_type": "display_data"
    }
   ],
   "source": [
    "plot (cl - cl.mean())"
   ]
  },
  {
   "cell_type": "markdown",
   "metadata": {},
   "source": [
    "### Transformation II: Amplitude Scaling \n",
    "Normalize the amplitude (divide by the standard deviation of the series)\n"
   ]
  },
  {
   "cell_type": "code",
   "execution_count": 12,
   "metadata": {},
   "outputs": [
    {
     "data": {
      "text/plain": [
       "[<matplotlib.lines.Line2D at 0x1a1c6b12dd8>]"
      ]
     },
     "execution_count": 12,
     "metadata": {},
     "output_type": "execute_result"
    },
    {
     "data": {
      "image/png": "[encoded data removed]",
      "text/plain": [
       "<Figure size 432x288 with 1 Axes>"
      ]
     },
     "metadata": {},
     "output_type": "display_data"
    }
   ],
   "source": [
    "plot ( (cl - cl.mean()) / cl.std() ) "
   ]
  },
  {
   "cell_type": "markdown",
   "metadata": {},
   "source": [
    "### Transformation III: Trend removal\n",
    "Average the values of each sample with those of its neighbors (smoothing). It's the same in the cells above."
   ]
  },
  {
   "cell_type": "code",
   "execution_count": 13,
   "metadata": {
    "scrolled": true
   },
   "outputs": [
    {
     "data": {
      "text/plain": [
       "[<matplotlib.lines.Line2D at 0x1a1c6c0aac8>]"
      ]
     },
     "execution_count": 13,
     "metadata": {},
     "output_type": "execute_result"
    },
    {
     "data": {
      "image/png": "[encoded data removed]",
      "text/plain": [
       "<Figure size 432x288 with 1 Axes>"
      ]
     },
     "metadata": {},
     "output_type": "display_data"
    }
   ],
   "source": [
    "plt.plot(cl.rolling(window=114).mean())"
   ]
  },
  {
   "cell_type": "code",
   "execution_count": 14,
   "metadata": {},
   "outputs": [
    {
     "data": {
      "text/plain": [
       "[<matplotlib.lines.Line2D at 0x1a1c6c609e8>]"
      ]
     },
     "execution_count": 14,
     "metadata": {},
     "output_type": "execute_result"
    },
    {
     "data": {
      "image/png": "[encoded data removed]",
      "text/plain": [
       "<Figure size 432x288 with 1 Axes>"
      ]
     },
     "metadata": {},
     "output_type": "display_data"
    }
   ],
   "source": [
    "ts_shift = cl - cl.rolling(window=114).mean()\n",
    "plt.plot( ts_shift )"
   ]
  },
  {
   "cell_type": "code",
   "execution_count": 15,
   "metadata": {
    "scrolled": true
   },
   "outputs": [
    {
     "data": {
      "text/plain": [
       "[<matplotlib.lines.Line2D at 0x1a1c6fcc1d0>]"
      ]
     },
     "execution_count": 15,
     "metadata": {},
     "output_type": "execute_result"
    },
    {
     "data": {
      "image/png": "[encoded data removed]",
      "text/plain": [
       "<Figure size 432x288 with 1 Axes>"
      ]
     },
     "metadata": {},
     "output_type": "display_data"
    }
   ],
   "source": [
    "ts_shift2 = cl - cl.ewm(halflife=12).mean()\n",
    "plt.plot( ts_shift, 'r-' )\n",
    "plt.plot( ts_shift2, 'b-' )"
   ]
  },
  {
   "cell_type": "markdown",
   "metadata": {},
   "source": [
    "### Transformation IV: Noise (smoothing)\n",
    "By smoothing with a very large window we obtain a (non-linear, non-parametric) trend line, that we can subtract to the original time series."
   ]
  },
  {
   "cell_type": "code",
   "execution_count": 16,
   "metadata": {
    "scrolled": true
   },
   "outputs": [
    {
     "data": {
      "text/plain": [
       "[<matplotlib.lines.Line2D at 0x1a1c8008b00>]"
      ]
     },
     "execution_count": 16,
     "metadata": {},
     "output_type": "execute_result"
    },
    {
     "data": {
      "image/png": "[encoded data removed]",
      "text/plain": [
       "<Figure size 432x288 with 1 Axes>"
      ]
     },
     "metadata": {},
     "output_type": "display_data"
    }
   ],
   "source": [
    "plot ( ( (cl - cl.mean()) / cl.std() ).rolling(window=50).mean() )"
   ]
  },
  {
   "cell_type": "code",
   "execution_count": 17,
   "metadata": {},
   "outputs": [
    {
     "data": {
      "image/png": "[encoded data removed]",
      "text/plain": [
       "<Figure size 432x288 with 1 Axes>"
      ]
     },
     "metadata": {},
     "output_type": "display_data"
    },
    {
     "name": "stdout",
     "output_type": "stream",
     "text": [
      "Results of Dickey-Fuller Test:\n",
      "Test Statistic                    -0.533891\n",
      "p-value                            0.885232\n",
      "#Lags Used                        41.000000\n",
      "Number of Observations Used    14126.000000\n",
      "Critical Value (1%)               -3.430813\n",
      "Critical Value (5%)               -2.861745\n",
      "Critical Value (10%)              -2.566879\n",
      "dtype: float64\n"
     ]
    }
   ],
   "source": [
    "#Determing rolling statistics\n",
    "rolmean = cl.rolling(window=38,center = True).mean()   \n",
    "rolstd = cl.rolling(window=38,center = True).std()\n",
    "\n",
    "#Plot rolling statistics:\n",
    "orig = plt.plot(cl, color='blue',label='Original')\n",
    "mean = plt.plot(rolmean, color='red', label='Rolling Mean')\n",
    "std = plt.plot(rolstd, color='black', label = 'Rolling Std')\n",
    "plt.legend(loc='best')\n",
    "plt.title('Rolling Mean & Standard Deviation')\n",
    "plt.show(block=False)\n",
    "    \n",
    "#Perform Dickey-Fuller test:\n",
    "print('Results of Dickey-Fuller Test:')\n",
    "dftest = adfuller(cl, autolag='AIC')\n",
    "dfoutput = pd.Series(dftest[0:4], index=['Test Statistic','p-value','#Lags Used','Number of Observations Used'])\n",
    "for key,value in dftest[4].items():\n",
    "    dfoutput['Critical Value (%s)'%key] = value\n",
    "print(dfoutput)"
   ]
  },
  {
   "cell_type": "code",
   "execution_count": 18,
   "metadata": {
    "scrolled": true
   },
   "outputs": [
    {
     "data": {
      "image/png": "[encoded data removed]",
      "text/plain": [
       "<Figure size 432x288 with 2 Axes>"
      ]
     },
     "metadata": {},
     "output_type": "display_data"
    }
   ],
   "source": [
    "fig,  axes  =  plt.subplots(nrows  =  1,  ncols = 2);\n",
    "axes[0].plot(cl);\n",
    "axes[0].set_title('Original');\n",
    "axes[1].plot(rolmean);\n",
    "axes[1].set_title('Smoothed (Rolling_Mean)');"
   ]
  },
  {
   "cell_type": "code",
   "execution_count": 19,
   "metadata": {
    "scrolled": false
   },
   "outputs": [
    {
     "data": {
      "text/plain": [
       "<matplotlib.axes._subplots.AxesSubplot at 0x1a1c8160c88>"
      ]
     },
     "execution_count": 19,
     "metadata": {},
     "output_type": "execute_result"
    },
    {
     "data": {
      "image/png": "[encoded data removed]",
      "text/plain": [
       "<Figure size 432x288 with 1 Axes>"
      ]
     },
     "metadata": {},
     "output_type": "display_data"
    }
   ],
   "source": [
    "rolmean.plot(kind='kde')"
   ]
  },
  {
   "cell_type": "code",
   "execution_count": 20,
   "metadata": {
    "scrolled": true
   },
   "outputs": [
    {
     "data": {
      "text/plain": [
       "<matplotlib.axes._subplots.AxesSubplot at 0x1a1c81c2080>"
      ]
     },
     "execution_count": 20,
     "metadata": {},
     "output_type": "execute_result"
    },
    {
     "data": {
      "image/png": "[encoded data removed]",
      "text/plain": [
       "<Figure size 432x288 with 1 Axes>"
      ]
     },
     "metadata": {},
     "output_type": "display_data"
    }
   ],
   "source": [
    "rolmean.hist()"
   ]
  },
  {
   "cell_type": "markdown",
   "metadata": {},
   "source": [
    "### Make a Time Series Stationary\n",
    "1. Trend – varying mean over time. For eg, in this case we saw that on average, the value of stock markets was growing over time.\n",
    "2. Seasonality – variations at specific time-frames, we may discover economical crisis or grown\n"
   ]
  },
  {
   "cell_type": "markdown",
   "metadata": {},
   "source": [
    "Estimation and elimination trend\n",
    "In this case we can clearly see that the there is a significant positive trend. So we can apply transformation which penalize higher values more than smaller values (logaritm)."
   ]
  },
  {
   "cell_type": "code",
   "execution_count": 21,
   "metadata": {},
   "outputs": [
    {
     "data": {
      "text/plain": [
       "[<matplotlib.lines.Line2D at 0x1a1c68bf2e8>]"
      ]
     },
     "execution_count": 21,
     "metadata": {},
     "output_type": "execute_result"
    },
    {
     "data": {
      "image/png": "[encoded data removed]",
      "text/plain": [
       "<Figure size 432x288 with 1 Axes>"
      ]
     },
     "metadata": {},
     "output_type": "display_data"
    }
   ],
   "source": [
    "ts_log = np.log(cl)\n",
    "plt.plot(ts_log)"
   ]
  },
  {
   "cell_type": "markdown",
   "metadata": {},
   "source": [
    "### Moving STD"
   ]
  },
  {
   "cell_type": "code",
   "execution_count": 22,
   "metadata": {},
   "outputs": [
    {
     "data": {
      "text/plain": [
       "[<matplotlib.lines.Line2D at 0x1a1c6947080>]"
      ]
     },
     "execution_count": 22,
     "metadata": {},
     "output_type": "execute_result"
    },
    {
     "data": {
      "image/png": "[encoded data removed]",
      "text/plain": [
       "<Figure size 432x288 with 1 Axes>"
      ]
     },
     "metadata": {},
     "output_type": "display_data"
    }
   ],
   "source": [
    "plt.plot(ts_log)\n",
    "plt.plot(rolstd, color='red')"
   ]
  },
  {
   "cell_type": "markdown",
   "metadata": {},
   "source": [
    "## Trying to divide per year "
   ]
  },
  {
   "cell_type": "code",
   "execution_count": 23,
   "metadata": {
    "scrolled": false
   },
   "outputs": [
    {
     "name": "stderr",
     "output_type": "stream",
     "text": [
      "C:\\Users\\Riccardo\\Anaconda3\\lib\\site-packages\\pandas\\core\\series.py:3724: FutureWarning: from_csv is deprecated. Please use read_csv(...) instead. Note that some of the default arguments are different, so please refer to the documentation for from_csv when changing your function calls\n",
      "  infer_datetime_format=infer_datetime_format)\n",
      "C:\\Users\\Riccardo\\Anaconda3\\lib\\site-packages\\ipykernel_launcher.py:2: FutureWarning: pd.TimeGrouper is deprecated and will be removed; Please use pd.Grouper(freq=...)\n",
      "  \n"
     ]
    },
    {
     "ename": "TypeError",
     "evalue": "'numpy.ndarray' object is not callable",
     "output_type": "error",
     "traceback": [
      "\u001b[1;31m---------------------------------------------------------------------------\u001b[0m",
      "\u001b[1;31mTypeError\u001b[0m                                 Traceback (most recent call last)",
      "\u001b[1;32m<ipython-input-23-cc11db69aa45>\u001b[0m in \u001b[0;36m<module>\u001b[1;34m()\u001b[0m\n\u001b[0;32m      2\u001b[0m \u001b[0mgroups\u001b[0m \u001b[1;33m=\u001b[0m \u001b[0mseries\u001b[0m\u001b[1;33m.\u001b[0m\u001b[0mgroupby\u001b[0m\u001b[1;33m(\u001b[0m\u001b[0mTimeGrouper\u001b[0m\u001b[1;33m(\u001b[0m\u001b[1;34m'Y'\u001b[0m\u001b[1;33m)\u001b[0m\u001b[1;33m)\u001b[0m\u001b[1;33m\u001b[0m\u001b[0m\n\u001b[0;32m      3\u001b[0m \u001b[1;32mfor\u001b[0m \u001b[0mn\u001b[0m\u001b[1;33m,\u001b[0m \u001b[0mgroup\u001b[0m \u001b[1;32min\u001b[0m \u001b[0mgroups\u001b[0m\u001b[1;33m:\u001b[0m\u001b[1;33m\u001b[0m\u001b[0m\n\u001b[1;32m----> 4\u001b[1;33m     \u001b[0mprint\u001b[0m\u001b[1;33m(\u001b[0m\u001b[0mgroup\u001b[0m\u001b[1;33m[\u001b[0m\u001b[1;36m1\u001b[0m\u001b[1;33m:\u001b[0m\u001b[1;36m15\u001b[0m\u001b[1;33m]\u001b[0m\u001b[1;33m.\u001b[0m\u001b[0mvalues\u001b[0m\u001b[1;33m(\u001b[0m\u001b[1;33m)\u001b[0m\u001b[1;33m)\u001b[0m\u001b[1;33m\u001b[0m\u001b[0m\n\u001b[0m",
      "\u001b[1;31mTypeError\u001b[0m: 'numpy.ndarray' object is not callable"
     ]
    }
   ],
   "source": [
    "series = pd.Series.from_csv('ibm_daily_1962-2018.csv', sep='\\t',header=0)\n",
    "groups = series.groupby(TimeGrouper('Y'))\n",
    "for n, group in groups:\n",
    "    print(group[1:15].values())\n"
   ]
  },
  {
   "cell_type": "code",
   "execution_count": null,
   "metadata": {},
   "outputs": [],
   "source": [
    "from statsmodels.tsa.seasonal import seasonal_decompose\n",
    "decomposition = seasonal_decompose(ts_log.values, freq=30)\n",
    "\n",
    "trend = decomposition.trend\n",
    "seasonal = decomposition.seasonal\n",
    "residual = decomposition.resid\n",
    "\n",
    "plt.subplot(411)\n",
    "plt.plot(ts_log, label='Original')\n",
    "plt.legend(loc='best')\n",
    "plt.subplot(412)\n",
    "plt.plot(trend, label='Trend')\n",
    "plt.legend(loc='best')\n",
    "plt.subplot(413)\n",
    "plt.plot(seasonal,label='Seasonality')\n",
    "plt.legend(loc='best')\n",
    "plt.subplot(414)\n",
    "plt.plot(residual, label='Residuals')\n",
    "plt.legend(loc='best')\n",
    "plt.tight_layout()\n"
   ]
  },
  {
   "cell_type": "markdown",
   "metadata": {},
   "source": [
    "## Lag plot and autocorrelation\n",
    "Lag plots are used to check if a data set or time series is random. Random data should not exhibit any structure in the lag plot. Non-random structure implies that the underlying data are not random.\n",
    "Autocorrelation plots are often used for checking randomness in time series. This is done by computing autocorrelations for data values at varying time lags. "
   ]
  },
  {
   "cell_type": "code",
   "execution_count": null,
   "metadata": {},
   "outputs": [],
   "source": [
    "lag_plot( cl )\n",
    "plot(cl, cl, 'r-')"
   ]
  },
  {
   "cell_type": "code",
   "execution_count": null,
   "metadata": {},
   "outputs": [],
   "source": [
    "result = adfuller(cl)\n",
    "\n",
    "print('ADF Statistic: %f' % result[0])\n",
    "print('p-value: %f  (%s)' % (result[1], '< 0.05 => most likely stationary' if result[1]<0.05 \\\n",
    "                             else '> 0.05 => most likely non-stationary'))\n",
    "print('Critical Values:')\n",
    "for key, value in result[4].items():\n",
    "    print('\\t%s: %.3f \\t-->\\t %s with error risk %s' % \\\n",
    "          (key, value, \"periodic / non-stationary / autocorrelated\" if result[0]>value \\\n",
    "           else \"non-periodic / stationary / non-autocorrelated\",key))"
   ]
  },
  {
   "cell_type": "code",
   "execution_count": null,
   "metadata": {
    "scrolled": true
   },
   "outputs": [],
   "source": [
    "autocorrelation_plot(cl)"
   ]
  },
  {
   "cell_type": "code",
   "execution_count": null,
   "metadata": {},
   "outputs": [],
   "source": []
  },
  {
   "cell_type": "code",
   "execution_count": null,
   "metadata": {},
   "outputs": [],
   "source": []
  }
 ],
 "metadata": {
  "kernelspec": {
   "display_name": "Python 3",
   "language": "python",
   "name": "python3"
  },
  "language_info": {
   "codemirror_mode": {
    "name": "ipython",
    "version": 3
   },
   "file_extension": ".py",
   "mimetype": "text/x-python",
   "name": "python",
   "nbconvert_exporter": "python",
   "pygments_lexer": "ipython3",
   "version": "3.6.5"
  }
 },
 "nbformat": 4,
 "nbformat_minor": 2
}
